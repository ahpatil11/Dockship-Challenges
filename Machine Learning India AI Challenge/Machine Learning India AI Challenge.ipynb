{
 "cells": [
  {
   "cell_type": "code",
   "execution_count": 16,
   "metadata": {},
   "outputs": [],
   "source": [
    "import numpy as np\n",
    "import pandas as pd\n",
    "import matplotlib.pyplot as plt\n",
    "import seaborn as sns"
   ]
  },
  {
   "cell_type": "code",
   "execution_count": 17,
   "metadata": {},
   "outputs": [
    {
     "data": {
      "text/html": [
       "<div>\n",
       "<style scoped>\n",
       "    .dataframe tbody tr th:only-of-type {\n",
       "        vertical-align: middle;\n",
       "    }\n",
       "\n",
       "    .dataframe tbody tr th {\n",
       "        vertical-align: top;\n",
       "    }\n",
       "\n",
       "    .dataframe thead th {\n",
       "        text-align: right;\n",
       "    }\n",
       "</style>\n",
       "<table border=\"1\" class=\"dataframe\">\n",
       "  <thead>\n",
       "    <tr style=\"text-align: right;\">\n",
       "      <th></th>\n",
       "      <th>Index</th>\n",
       "      <th>V1</th>\n",
       "      <th>V2</th>\n",
       "      <th>V3</th>\n",
       "      <th>V4</th>\n",
       "      <th>V5</th>\n",
       "      <th>V6</th>\n",
       "      <th>V7</th>\n",
       "      <th>V8</th>\n",
       "      <th>V9</th>\n",
       "      <th>...</th>\n",
       "      <th>V21</th>\n",
       "      <th>V22</th>\n",
       "      <th>V23</th>\n",
       "      <th>V24</th>\n",
       "      <th>V25</th>\n",
       "      <th>V26</th>\n",
       "      <th>V27</th>\n",
       "      <th>V28</th>\n",
       "      <th>Amount</th>\n",
       "      <th>Class</th>\n",
       "    </tr>\n",
       "  </thead>\n",
       "  <tbody>\n",
       "    <tr>\n",
       "      <th>0</th>\n",
       "      <td>0</td>\n",
       "      <td>2.245295</td>\n",
       "      <td>-1.160960</td>\n",
       "      <td>-1.966682</td>\n",
       "      <td>-1.430190</td>\n",
       "      <td>-0.607246</td>\n",
       "      <td>-1.508696</td>\n",
       "      <td>-0.074415</td>\n",
       "      <td>-0.655096</td>\n",
       "      <td>-1.970141</td>\n",
       "      <td>...</td>\n",
       "      <td>0.010490</td>\n",
       "      <td>0.521714</td>\n",
       "      <td>-0.064971</td>\n",
       "      <td>0.048849</td>\n",
       "      <td>0.383290</td>\n",
       "      <td>0.103970</td>\n",
       "      <td>-0.047350</td>\n",
       "      <td>-0.064800</td>\n",
       "      <td>74.75</td>\n",
       "      <td>0</td>\n",
       "    </tr>\n",
       "    <tr>\n",
       "      <th>1</th>\n",
       "      <td>1</td>\n",
       "      <td>1.278609</td>\n",
       "      <td>0.102574</td>\n",
       "      <td>0.512079</td>\n",
       "      <td>0.003930</td>\n",
       "      <td>-0.723474</td>\n",
       "      <td>-1.334105</td>\n",
       "      <td>0.029958</td>\n",
       "      <td>-0.296595</td>\n",
       "      <td>0.128119</td>\n",
       "      <td>...</td>\n",
       "      <td>-0.081470</td>\n",
       "      <td>-0.182506</td>\n",
       "      <td>0.078986</td>\n",
       "      <td>0.789993</td>\n",
       "      <td>0.219794</td>\n",
       "      <td>0.938359</td>\n",
       "      <td>-0.078720</td>\n",
       "      <td>0.008119</td>\n",
       "      <td>1.38</td>\n",
       "      <td>0</td>\n",
       "    </tr>\n",
       "    <tr>\n",
       "      <th>2</th>\n",
       "      <td>2</td>\n",
       "      <td>1.466457</td>\n",
       "      <td>0.026088</td>\n",
       "      <td>-0.499298</td>\n",
       "      <td>-0.674372</td>\n",
       "      <td>-0.144883</td>\n",
       "      <td>-1.178075</td>\n",
       "      <td>0.058089</td>\n",
       "      <td>-0.420145</td>\n",
       "      <td>-1.359651</td>\n",
       "      <td>...</td>\n",
       "      <td>-0.234087</td>\n",
       "      <td>-0.710542</td>\n",
       "      <td>-0.001242</td>\n",
       "      <td>-0.174713</td>\n",
       "      <td>0.533719</td>\n",
       "      <td>-0.454779</td>\n",
       "      <td>0.001524</td>\n",
       "      <td>0.030935</td>\n",
       "      <td>10.95</td>\n",
       "      <td>0</td>\n",
       "    </tr>\n",
       "    <tr>\n",
       "      <th>3</th>\n",
       "      <td>3</td>\n",
       "      <td>-0.922137</td>\n",
       "      <td>-0.371579</td>\n",
       "      <td>2.132018</td>\n",
       "      <td>-0.796997</td>\n",
       "      <td>0.324175</td>\n",
       "      <td>-1.162006</td>\n",
       "      <td>0.277208</td>\n",
       "      <td>-0.249586</td>\n",
       "      <td>-0.775648</td>\n",
       "      <td>...</td>\n",
       "      <td>-0.302654</td>\n",
       "      <td>-0.246899</td>\n",
       "      <td>-0.045745</td>\n",
       "      <td>0.677110</td>\n",
       "      <td>0.016109</td>\n",
       "      <td>-0.734220</td>\n",
       "      <td>-0.034480</td>\n",
       "      <td>-0.064786</td>\n",
       "      <td>8.04</td>\n",
       "      <td>0</td>\n",
       "    </tr>\n",
       "    <tr>\n",
       "      <th>4</th>\n",
       "      <td>4</td>\n",
       "      <td>-1.166525</td>\n",
       "      <td>0.255439</td>\n",
       "      <td>2.108464</td>\n",
       "      <td>0.135019</td>\n",
       "      <td>-0.072979</td>\n",
       "      <td>0.910821</td>\n",
       "      <td>0.755918</td>\n",
       "      <td>0.355528</td>\n",
       "      <td>-0.422820</td>\n",
       "      <td>...</td>\n",
       "      <td>0.136470</td>\n",
       "      <td>0.017496</td>\n",
       "      <td>0.121017</td>\n",
       "      <td>0.636266</td>\n",
       "      <td>0.492943</td>\n",
       "      <td>-0.750242</td>\n",
       "      <td>0.029124</td>\n",
       "      <td>0.091303</td>\n",
       "      <td>175.00</td>\n",
       "      <td>0</td>\n",
       "    </tr>\n",
       "  </tbody>\n",
       "</table>\n",
       "<p>5 rows × 31 columns</p>\n",
       "</div>"
      ],
      "text/plain": [
       "   Index        V1        V2        V3        V4        V5        V6  \\\n",
       "0      0  2.245295 -1.160960 -1.966682 -1.430190 -0.607246 -1.508696   \n",
       "1      1  1.278609  0.102574  0.512079  0.003930 -0.723474 -1.334105   \n",
       "2      2  1.466457  0.026088 -0.499298 -0.674372 -0.144883 -1.178075   \n",
       "3      3 -0.922137 -0.371579  2.132018 -0.796997  0.324175 -1.162006   \n",
       "4      4 -1.166525  0.255439  2.108464  0.135019 -0.072979  0.910821   \n",
       "\n",
       "         V7        V8        V9  ...       V21       V22       V23       V24  \\\n",
       "0 -0.074415 -0.655096 -1.970141  ...  0.010490  0.521714 -0.064971  0.048849   \n",
       "1  0.029958 -0.296595  0.128119  ... -0.081470 -0.182506  0.078986  0.789993   \n",
       "2  0.058089 -0.420145 -1.359651  ... -0.234087 -0.710542 -0.001242 -0.174713   \n",
       "3  0.277208 -0.249586 -0.775648  ... -0.302654 -0.246899 -0.045745  0.677110   \n",
       "4  0.755918  0.355528 -0.422820  ...  0.136470  0.017496  0.121017  0.636266   \n",
       "\n",
       "        V25       V26       V27       V28  Amount  Class  \n",
       "0  0.383290  0.103970 -0.047350 -0.064800   74.75      0  \n",
       "1  0.219794  0.938359 -0.078720  0.008119    1.38      0  \n",
       "2  0.533719 -0.454779  0.001524  0.030935   10.95      0  \n",
       "3  0.016109 -0.734220 -0.034480 -0.064786    8.04      0  \n",
       "4  0.492943 -0.750242  0.029124  0.091303  175.00      0  \n",
       "\n",
       "[5 rows x 31 columns]"
      ]
     },
     "execution_count": 17,
     "metadata": {},
     "output_type": "execute_result"
    }
   ],
   "source": [
    "train = pd.read_csv('TRAIN.csv')\n",
    "train.head()"
   ]
  },
  {
   "cell_type": "code",
   "execution_count": 18,
   "metadata": {},
   "outputs": [
    {
     "data": {
      "text/plain": [
       "(284455, 31)"
      ]
     },
     "execution_count": 18,
     "metadata": {},
     "output_type": "execute_result"
    }
   ],
   "source": [
    "train.shape"
   ]
  },
  {
   "cell_type": "code",
   "execution_count": 19,
   "metadata": {},
   "outputs": [
    {
     "data": {
      "text/html": [
       "<div>\n",
       "<style scoped>\n",
       "    .dataframe tbody tr th:only-of-type {\n",
       "        vertical-align: middle;\n",
       "    }\n",
       "\n",
       "    .dataframe tbody tr th {\n",
       "        vertical-align: top;\n",
       "    }\n",
       "\n",
       "    .dataframe thead th {\n",
       "        text-align: right;\n",
       "    }\n",
       "</style>\n",
       "<table border=\"1\" class=\"dataframe\">\n",
       "  <thead>\n",
       "    <tr style=\"text-align: right;\">\n",
       "      <th></th>\n",
       "      <th>Index</th>\n",
       "      <th>V1</th>\n",
       "      <th>V2</th>\n",
       "      <th>V3</th>\n",
       "      <th>V4</th>\n",
       "      <th>V5</th>\n",
       "      <th>V6</th>\n",
       "      <th>V7</th>\n",
       "      <th>V8</th>\n",
       "      <th>V9</th>\n",
       "      <th>...</th>\n",
       "      <th>V20</th>\n",
       "      <th>V21</th>\n",
       "      <th>V22</th>\n",
       "      <th>V23</th>\n",
       "      <th>V24</th>\n",
       "      <th>V25</th>\n",
       "      <th>V26</th>\n",
       "      <th>V27</th>\n",
       "      <th>V28</th>\n",
       "      <th>Amount</th>\n",
       "    </tr>\n",
       "  </thead>\n",
       "  <tbody>\n",
       "    <tr>\n",
       "      <th>0</th>\n",
       "      <td>0</td>\n",
       "      <td>1.755477</td>\n",
       "      <td>-0.860198</td>\n",
       "      <td>-1.629185</td>\n",
       "      <td>0.164162</td>\n",
       "      <td>0.027778</td>\n",
       "      <td>-0.330613</td>\n",
       "      <td>0.216770</td>\n",
       "      <td>-0.215280</td>\n",
       "      <td>1.187584</td>\n",
       "      <td>...</td>\n",
       "      <td>0.135129</td>\n",
       "      <td>-0.122173</td>\n",
       "      <td>-0.503867</td>\n",
       "      <td>-0.063954</td>\n",
       "      <td>-1.047319</td>\n",
       "      <td>-0.016514</td>\n",
       "      <td>-0.039022</td>\n",
       "      <td>-0.058861</td>\n",
       "      <td>-0.035955</td>\n",
       "      <td>186.76</td>\n",
       "    </tr>\n",
       "    <tr>\n",
       "      <th>1</th>\n",
       "      <td>1</td>\n",
       "      <td>-0.706506</td>\n",
       "      <td>1.155627</td>\n",
       "      <td>1.132585</td>\n",
       "      <td>2.742101</td>\n",
       "      <td>1.203095</td>\n",
       "      <td>0.013641</td>\n",
       "      <td>1.200743</td>\n",
       "      <td>-0.273633</td>\n",
       "      <td>-1.323403</td>\n",
       "      <td>...</td>\n",
       "      <td>-0.281283</td>\n",
       "      <td>0.352723</td>\n",
       "      <td>1.142657</td>\n",
       "      <td>-0.156382</td>\n",
       "      <td>1.139391</td>\n",
       "      <td>-0.151635</td>\n",
       "      <td>0.063306</td>\n",
       "      <td>-0.284146</td>\n",
       "      <td>-0.015198</td>\n",
       "      <td>21.18</td>\n",
       "    </tr>\n",
       "    <tr>\n",
       "      <th>2</th>\n",
       "      <td>2</td>\n",
       "      <td>1.043717</td>\n",
       "      <td>-0.928666</td>\n",
       "      <td>0.643312</td>\n",
       "      <td>-2.093695</td>\n",
       "      <td>-0.527878</td>\n",
       "      <td>1.420413</td>\n",
       "      <td>-1.053914</td>\n",
       "      <td>0.702897</td>\n",
       "      <td>2.450726</td>\n",
       "      <td>...</td>\n",
       "      <td>-0.264045</td>\n",
       "      <td>0.008873</td>\n",
       "      <td>0.568767</td>\n",
       "      <td>0.070359</td>\n",
       "      <td>-0.978165</td>\n",
       "      <td>0.258814</td>\n",
       "      <td>-0.726163</td>\n",
       "      <td>0.176843</td>\n",
       "      <td>0.005530</td>\n",
       "      <td>1.00</td>\n",
       "    </tr>\n",
       "    <tr>\n",
       "      <th>3</th>\n",
       "      <td>3</td>\n",
       "      <td>-4.194074</td>\n",
       "      <td>4.382897</td>\n",
       "      <td>-5.118363</td>\n",
       "      <td>4.455230</td>\n",
       "      <td>-4.812621</td>\n",
       "      <td>-1.224645</td>\n",
       "      <td>-7.281328</td>\n",
       "      <td>3.332250</td>\n",
       "      <td>-3.679659</td>\n",
       "      <td>...</td>\n",
       "      <td>0.579098</td>\n",
       "      <td>1.550473</td>\n",
       "      <td>0.614573</td>\n",
       "      <td>0.028521</td>\n",
       "      <td>0.013704</td>\n",
       "      <td>-0.149512</td>\n",
       "      <td>-0.131687</td>\n",
       "      <td>0.473934</td>\n",
       "      <td>0.473757</td>\n",
       "      <td>14.46</td>\n",
       "    </tr>\n",
       "    <tr>\n",
       "      <th>4</th>\n",
       "      <td>4</td>\n",
       "      <td>1.187587</td>\n",
       "      <td>0.173589</td>\n",
       "      <td>0.104741</td>\n",
       "      <td>1.143172</td>\n",
       "      <td>0.164552</td>\n",
       "      <td>0.162763</td>\n",
       "      <td>0.097302</td>\n",
       "      <td>0.001023</td>\n",
       "      <td>-0.013501</td>\n",
       "      <td>...</td>\n",
       "      <td>-0.039666</td>\n",
       "      <td>-0.112873</td>\n",
       "      <td>-0.163529</td>\n",
       "      <td>-0.231334</td>\n",
       "      <td>-0.469322</td>\n",
       "      <td>0.832111</td>\n",
       "      <td>-0.312343</td>\n",
       "      <td>0.019521</td>\n",
       "      <td>0.005464</td>\n",
       "      <td>27.00</td>\n",
       "    </tr>\n",
       "  </tbody>\n",
       "</table>\n",
       "<p>5 rows × 30 columns</p>\n",
       "</div>"
      ],
      "text/plain": [
       "   Index        V1        V2        V3        V4        V5        V6  \\\n",
       "0      0  1.755477 -0.860198 -1.629185  0.164162  0.027778 -0.330613   \n",
       "1      1 -0.706506  1.155627  1.132585  2.742101  1.203095  0.013641   \n",
       "2      2  1.043717 -0.928666  0.643312 -2.093695 -0.527878  1.420413   \n",
       "3      3 -4.194074  4.382897 -5.118363  4.455230 -4.812621 -1.224645   \n",
       "4      4  1.187587  0.173589  0.104741  1.143172  0.164552  0.162763   \n",
       "\n",
       "         V7        V8        V9  ...       V20       V21       V22       V23  \\\n",
       "0  0.216770 -0.215280  1.187584  ...  0.135129 -0.122173 -0.503867 -0.063954   \n",
       "1  1.200743 -0.273633 -1.323403  ... -0.281283  0.352723  1.142657 -0.156382   \n",
       "2 -1.053914  0.702897  2.450726  ... -0.264045  0.008873  0.568767  0.070359   \n",
       "3 -7.281328  3.332250 -3.679659  ...  0.579098  1.550473  0.614573  0.028521   \n",
       "4  0.097302  0.001023 -0.013501  ... -0.039666 -0.112873 -0.163529 -0.231334   \n",
       "\n",
       "        V24       V25       V26       V27       V28  Amount  \n",
       "0 -1.047319 -0.016514 -0.039022 -0.058861 -0.035955  186.76  \n",
       "1  1.139391 -0.151635  0.063306 -0.284146 -0.015198   21.18  \n",
       "2 -0.978165  0.258814 -0.726163  0.176843  0.005530    1.00  \n",
       "3  0.013704 -0.149512 -0.131687  0.473934  0.473757   14.46  \n",
       "4 -0.469322  0.832111 -0.312343  0.019521  0.005464   27.00  \n",
       "\n",
       "[5 rows x 30 columns]"
      ]
     },
     "execution_count": 19,
     "metadata": {},
     "output_type": "execute_result"
    }
   ],
   "source": [
    "test = pd.read_csv('TEST.csv')\n",
    "test.head()"
   ]
  },
  {
   "cell_type": "code",
   "execution_count": 20,
   "metadata": {},
   "outputs": [
    {
     "data": {
      "text/plain": [
       "(352, 30)"
      ]
     },
     "execution_count": 20,
     "metadata": {},
     "output_type": "execute_result"
    }
   ],
   "source": [
    "test.shape"
   ]
  },
  {
   "cell_type": "code",
   "execution_count": 21,
   "metadata": {},
   "outputs": [
    {
     "data": {
      "text/plain": [
       "Index     0\n",
       "V1        0\n",
       "V2        0\n",
       "V3        0\n",
       "V4        0\n",
       "V5        0\n",
       "V6        0\n",
       "V7        0\n",
       "V8        0\n",
       "V9        0\n",
       "V10       0\n",
       "V11       0\n",
       "V12       0\n",
       "V13       0\n",
       "V14       0\n",
       "V15       0\n",
       "V16       0\n",
       "V17       0\n",
       "V18       0\n",
       "V19       0\n",
       "V20       0\n",
       "V21       0\n",
       "V22       0\n",
       "V23       0\n",
       "V24       0\n",
       "V25       0\n",
       "V26       0\n",
       "V27       0\n",
       "V28       0\n",
       "Amount    0\n",
       "Class     0\n",
       "dtype: int64"
      ]
     },
     "execution_count": 21,
     "metadata": {},
     "output_type": "execute_result"
    }
   ],
   "source": [
    "train.isnull().sum()"
   ]
  },
  {
   "cell_type": "code",
   "execution_count": 22,
   "metadata": {},
   "outputs": [
    {
     "data": {
      "text/plain": [
       "Index     0\n",
       "V1        0\n",
       "V2        0\n",
       "V3        0\n",
       "V4        0\n",
       "V5        0\n",
       "V6        0\n",
       "V7        0\n",
       "V8        0\n",
       "V9        0\n",
       "V10       0\n",
       "V11       0\n",
       "V12       0\n",
       "V13       0\n",
       "V14       0\n",
       "V15       0\n",
       "V16       0\n",
       "V17       0\n",
       "V18       0\n",
       "V19       0\n",
       "V20       0\n",
       "V21       0\n",
       "V22       0\n",
       "V23       0\n",
       "V24       0\n",
       "V25       0\n",
       "V26       0\n",
       "V27       0\n",
       "V28       0\n",
       "Amount    0\n",
       "dtype: int64"
      ]
     },
     "execution_count": 22,
     "metadata": {},
     "output_type": "execute_result"
    }
   ],
   "source": [
    "test.isnull().sum()"
   ]
  },
  {
   "cell_type": "code",
   "execution_count": 23,
   "metadata": {},
   "outputs": [],
   "source": [
    "x = train.drop('Class', axis = 1)\n",
    "y = train['Class']"
   ]
  },
  {
   "cell_type": "code",
   "execution_count": 24,
   "metadata": {},
   "outputs": [],
   "source": [
    "from sklearn.model_selection import train_test_split\n",
    "x_train, x_test, y_train, y_test = train_test_split(x, y, test_size = 0.2, random_state = 1)"
   ]
  },
  {
   "cell_type": "code",
   "execution_count": 10,
   "metadata": {},
   "outputs": [
    {
     "data": {
      "text/plain": [
       "RandomForestClassifier(bootstrap=True, ccp_alpha=0.0, class_weight=None,\n",
       "                       criterion='gini', max_depth=None, max_features='auto',\n",
       "                       max_leaf_nodes=None, max_samples=None,\n",
       "                       min_impurity_decrease=0.0, min_impurity_split=None,\n",
       "                       min_samples_leaf=1, min_samples_split=2,\n",
       "                       min_weight_fraction_leaf=0.0, n_estimators=100,\n",
       "                       n_jobs=None, oob_score=False, random_state=None,\n",
       "                       verbose=0, warm_start=False)"
      ]
     },
     "execution_count": 10,
     "metadata": {},
     "output_type": "execute_result"
    }
   ],
   "source": [
    "from sklearn.ensemble import RandomForestClassifier\n",
    "rf = RandomForestClassifier()\n",
    "rf.fit(x_train, y_train)"
   ]
  },
  {
   "cell_type": "code",
   "execution_count": 78,
   "metadata": {},
   "outputs": [],
   "source": [
    "y_pred = rf.predict(x_test)"
   ]
  },
  {
   "cell_type": "code",
   "execution_count": 79,
   "metadata": {},
   "outputs": [],
   "source": [
    "from sklearn.metrics import confusion_matrix, accuracy_score, classification_report"
   ]
  },
  {
   "cell_type": "code",
   "execution_count": 80,
   "metadata": {},
   "outputs": [
    {
     "name": "stdout",
     "output_type": "stream",
     "text": [
      "0.9995957181276476\n"
     ]
    }
   ],
   "source": [
    "print(accuracy_score(y_test, y_pred))"
   ]
  },
  {
   "cell_type": "code",
   "execution_count": 81,
   "metadata": {},
   "outputs": [
    {
     "name": "stdout",
     "output_type": "stream",
     "text": [
      "[[56804     4]\n",
      " [   19    64]]\n"
     ]
    }
   ],
   "source": [
    "print(confusion_matrix(y_test, y_pred))"
   ]
  },
  {
   "cell_type": "code",
   "execution_count": 82,
   "metadata": {},
   "outputs": [
    {
     "name": "stdout",
     "output_type": "stream",
     "text": [
      "              precision    recall  f1-score   support\n",
      "\n",
      "           0       1.00      1.00      1.00     56808\n",
      "           1       0.94      0.77      0.85        83\n",
      "\n",
      "    accuracy                           1.00     56891\n",
      "   macro avg       0.97      0.89      0.92     56891\n",
      "weighted avg       1.00      1.00      1.00     56891\n",
      "\n"
     ]
    }
   ],
   "source": [
    "print(classification_report(y_test, y_pred))"
   ]
  },
  {
   "cell_type": "code",
   "execution_count": 55,
   "metadata": {},
   "outputs": [
    {
     "data": {
      "image/png": "[encoded data removed]",
      "text/plain": [
       "<Figure size 720x360 with 1 Axes>"
      ]
     },
     "metadata": {
      "needs_background": "light"
     },
     "output_type": "display_data"
    }
   ],
   "source": [
    "feature_imp = pd.DataFrame(sorted(zip(rf.feature_importances_, x.columns), reverse=True)[:], columns=['Value','Feature'])\n",
    "plt.figure(figsize=(10,5))\n",
    "sns.barplot(x=\"Value\", y=\"Feature\", data=feature_imp.sort_values(by=\"Value\", ascending=False))\n",
    "plt.title('RF Features')\n",
    "plt.tight_layout()\n",
    "plt.show()"
   ]
  },
  {
   "cell_type": "code",
   "execution_count": 13,
   "metadata": {},
   "outputs": [],
   "source": [
    "x_train = train.drop(['Class', 'Index'], axis = 1)\n",
    "y_train = train['Class']\n",
    "x_test = test\n",
    "x_test = x_test.drop('Index', axis = 1)"
   ]
  },
  {
   "cell_type": "code",
   "execution_count": 66,
   "metadata": {},
   "outputs": [],
   "source": [
    "rf = RandomForestClassifier()\n",
    "y_pred = rf.fit(x_train, y_train).predict(x_test)\n",
    "solution = pd.DataFrame({'Index': test.Index, 'Class': y_pred})\n",
    "solution.to_csv('RF1.csv', index = False)"
   ]
  },
  {
   "cell_type": "code",
   "execution_count": null,
   "metadata": {},
   "outputs": [],
   "source": []
  }
 ],
 "metadata": {
  "kernelspec": {
   "display_name": "Python 3",
   "language": "python",
   "name": "python3"
  },
  "language_info": {
   "codemirror_mode": {
    "name": "ipython",
    "version": 3
   },
   "file_extension": ".py",
   "mimetype": "text/x-python",
   "name": "python",
   "nbconvert_exporter": "python",
   "pygments_lexer": "ipython3",
   "version": "3.7.3"
  }
 },
 "nbformat": 4,
 "nbformat_minor": 2
}
