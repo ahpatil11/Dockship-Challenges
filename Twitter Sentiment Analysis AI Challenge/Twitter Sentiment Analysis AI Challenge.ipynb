{
 "cells": [
  {
   "cell_type": "code",
   "execution_count": 1,
   "metadata": {},
   "outputs": [
    {
     "name": "stderr",
     "output_type": "stream",
     "text": [
      "C:\\Users\\Akshay\\Anaconda3\\lib\\importlib\\_bootstrap.py:219: RuntimeWarning: numpy.ufunc size changed, may indicate binary incompatibility. Expected 192 from C header, got 216 from PyObject\n",
      "  return f(*args, **kwds)\n",
      "C:\\Users\\Akshay\\Anaconda3\\lib\\importlib\\_bootstrap.py:219: RuntimeWarning: numpy.ufunc size changed, may indicate binary incompatibility. Expected 192 from C header, got 216 from PyObject\n",
      "  return f(*args, **kwds)\n",
      "C:\\Users\\Akshay\\Anaconda3\\lib\\importlib\\_bootstrap.py:219: RuntimeWarning: numpy.ufunc size changed, may indicate binary incompatibility. Expected 192 from C header, got 216 from PyObject\n",
      "  return f(*args, **kwds)\n"
     ]
    }
   ],
   "source": [
    "import numpy as np\n",
    "import pandas as pd\n",
    "import matplotlib.pyplot as plt\n",
    "import seaborn as sns"
   ]
  },
  {
   "cell_type": "code",
   "execution_count": 2,
   "metadata": {},
   "outputs": [
    {
     "data": {
      "text/html": [
       "<div>\n",
       "<style scoped>\n",
       "    .dataframe tbody tr th:only-of-type {\n",
       "        vertical-align: middle;\n",
       "    }\n",
       "\n",
       "    .dataframe tbody tr th {\n",
       "        vertical-align: top;\n",
       "    }\n",
       "\n",
       "    .dataframe thead th {\n",
       "        text-align: right;\n",
       "    }\n",
       "</style>\n",
       "<table border=\"1\" class=\"dataframe\">\n",
       "  <thead>\n",
       "    <tr style=\"text-align: right;\">\n",
       "      <th></th>\n",
       "      <th>tweet_id</th>\n",
       "      <th>airline_sentiment</th>\n",
       "      <th>airline_sentiment_confidence</th>\n",
       "      <th>negativereason</th>\n",
       "      <th>negativereason_confidence</th>\n",
       "      <th>airline</th>\n",
       "      <th>airline_sentiment_gold</th>\n",
       "      <th>name</th>\n",
       "      <th>negativereason_gold</th>\n",
       "      <th>retweet_count</th>\n",
       "      <th>text</th>\n",
       "      <th>tweet_coord</th>\n",
       "      <th>tweet_created</th>\n",
       "      <th>tweet_location</th>\n",
       "      <th>user_timezone</th>\n",
       "    </tr>\n",
       "  </thead>\n",
       "  <tbody>\n",
       "    <tr>\n",
       "      <th>0</th>\n",
       "      <td>570018445695148033</td>\n",
       "      <td>negative</td>\n",
       "      <td>1.0</td>\n",
       "      <td>Customer Service Issue</td>\n",
       "      <td>0.6560</td>\n",
       "      <td>United</td>\n",
       "      <td>NaN</td>\n",
       "      <td>tpensari</td>\n",
       "      <td>NaN</td>\n",
       "      <td>0</td>\n",
       "      <td>@united your customer service is terrible! Sto...</td>\n",
       "      <td>NaN</td>\n",
       "      <td>2015-02-23 16:32:42 -0800</td>\n",
       "      <td>NaN</td>\n",
       "      <td>NaN</td>\n",
       "    </tr>\n",
       "    <tr>\n",
       "      <th>1</th>\n",
       "      <td>568830255282040832</td>\n",
       "      <td>neutral</td>\n",
       "      <td>1.0</td>\n",
       "      <td>NaN</td>\n",
       "      <td>NaN</td>\n",
       "      <td>Southwest</td>\n",
       "      <td>NaN</td>\n",
       "      <td>leavenodoubt131</td>\n",
       "      <td>NaN</td>\n",
       "      <td>0</td>\n",
       "      <td>@SouthwestAir  I will dm you now</td>\n",
       "      <td>NaN</td>\n",
       "      <td>2015-02-20 09:51:15 -0800</td>\n",
       "      <td>NaN</td>\n",
       "      <td>Tijuana</td>\n",
       "    </tr>\n",
       "    <tr>\n",
       "      <th>2</th>\n",
       "      <td>569296356143050754</td>\n",
       "      <td>negative</td>\n",
       "      <td>1.0</td>\n",
       "      <td>longlines</td>\n",
       "      <td>0.3462</td>\n",
       "      <td>United</td>\n",
       "      <td>NaN</td>\n",
       "      <td>ScottyNeuman</td>\n",
       "      <td>NaN</td>\n",
       "      <td>1</td>\n",
       "      <td>@united congratulations united. Fail again. Sk...</td>\n",
       "      <td>[39.85760174, -104.66669625]</td>\n",
       "      <td>2015-02-21 16:43:22 -0800</td>\n",
       "      <td>Montana, God's country\\n</td>\n",
       "      <td>Pacific Time (US &amp; Canada)</td>\n",
       "    </tr>\n",
       "    <tr>\n",
       "      <th>3</th>\n",
       "      <td>569936640669581313</td>\n",
       "      <td>positive</td>\n",
       "      <td>1.0</td>\n",
       "      <td>NaN</td>\n",
       "      <td>NaN</td>\n",
       "      <td>United</td>\n",
       "      <td>NaN</td>\n",
       "      <td>koploperfan1992</td>\n",
       "      <td>NaN</td>\n",
       "      <td>0</td>\n",
       "      <td>@united look at this beauty 😉 dc 10 united air...</td>\n",
       "      <td>[51.322819, 5.3576218]</td>\n",
       "      <td>2015-02-23 11:07:38 -0800</td>\n",
       "      <td>Winterfell</td>\n",
       "      <td>NaN</td>\n",
       "    </tr>\n",
       "    <tr>\n",
       "      <th>4</th>\n",
       "      <td>569542242983124992</td>\n",
       "      <td>positive</td>\n",
       "      <td>1.0</td>\n",
       "      <td>NaN</td>\n",
       "      <td>NaN</td>\n",
       "      <td>Delta</td>\n",
       "      <td>NaN</td>\n",
       "      <td>sandyy889</td>\n",
       "      <td>NaN</td>\n",
       "      <td>0</td>\n",
       "      <td>@JetBlue Landing! As usual great flight wiyh a...</td>\n",
       "      <td>NaN</td>\n",
       "      <td>2015-02-22 09:00:26 -0800</td>\n",
       "      <td>NaN</td>\n",
       "      <td>America/Detroit</td>\n",
       "    </tr>\n",
       "  </tbody>\n",
       "</table>\n",
       "</div>"
      ],
      "text/plain": [
       "             tweet_id airline_sentiment  airline_sentiment_confidence  \\\n",
       "0  570018445695148033          negative                           1.0   \n",
       "1  568830255282040832           neutral                           1.0   \n",
       "2  569296356143050754          negative                           1.0   \n",
       "3  569936640669581313          positive                           1.0   \n",
       "4  569542242983124992          positive                           1.0   \n",
       "\n",
       "           negativereason  negativereason_confidence    airline  \\\n",
       "0  Customer Service Issue                     0.6560     United   \n",
       "1                     NaN                        NaN  Southwest   \n",
       "2               longlines                     0.3462     United   \n",
       "3                     NaN                        NaN     United   \n",
       "4                     NaN                        NaN      Delta   \n",
       "\n",
       "  airline_sentiment_gold             name negativereason_gold  retweet_count  \\\n",
       "0                    NaN         tpensari                 NaN              0   \n",
       "1                    NaN  leavenodoubt131                 NaN              0   \n",
       "2                    NaN     ScottyNeuman                 NaN              1   \n",
       "3                    NaN  koploperfan1992                 NaN              0   \n",
       "4                    NaN        sandyy889                 NaN              0   \n",
       "\n",
       "                                                text  \\\n",
       "0  @united your customer service is terrible! Sto...   \n",
       "1                   @SouthwestAir  I will dm you now   \n",
       "2  @united congratulations united. Fail again. Sk...   \n",
       "3  @united look at this beauty 😉 dc 10 united air...   \n",
       "4  @JetBlue Landing! As usual great flight wiyh a...   \n",
       "\n",
       "                    tweet_coord              tweet_created  \\\n",
       "0                           NaN  2015-02-23 16:32:42 -0800   \n",
       "1                           NaN  2015-02-20 09:51:15 -0800   \n",
       "2  [39.85760174, -104.66669625]  2015-02-21 16:43:22 -0800   \n",
       "3        [51.322819, 5.3576218]  2015-02-23 11:07:38 -0800   \n",
       "4                           NaN  2015-02-22 09:00:26 -0800   \n",
       "\n",
       "             tweet_location               user_timezone  \n",
       "0                       NaN                         NaN  \n",
       "1                       NaN                     Tijuana  \n",
       "2  Montana, God's country\\n  Pacific Time (US & Canada)  \n",
       "3                Winterfell                         NaN  \n",
       "4                       NaN             America/Detroit  "
      ]
     },
     "execution_count": 2,
     "metadata": {},
     "output_type": "execute_result"
    }
   ],
   "source": [
    "train = pd.read_csv('TRAIN.csv')\n",
    "train.head()"
   ]
  },
  {
   "cell_type": "code",
   "execution_count": 3,
   "metadata": {},
   "outputs": [
    {
     "data": {
      "text/plain": [
       "(12000, 15)"
      ]
     },
     "execution_count": 3,
     "metadata": {},
     "output_type": "execute_result"
    }
   ],
   "source": [
    "train.shape"
   ]
  },
  {
   "cell_type": "code",
   "execution_count": 4,
   "metadata": {},
   "outputs": [
    {
     "name": "stdout",
     "output_type": "stream",
     "text": [
      "<class 'pandas.core.frame.DataFrame'>\n",
      "RangeIndex: 12000 entries, 0 to 11999\n",
      "Data columns (total 15 columns):\n",
      "tweet_id                        12000 non-null int64\n",
      "airline_sentiment               12000 non-null object\n",
      "airline_sentiment_confidence    12000 non-null float64\n",
      "negativereason                  7517 non-null object\n",
      "negativereason_confidence       8616 non-null float64\n",
      "airline                         12000 non-null object\n",
      "airline_sentiment_gold          31 non-null object\n",
      "name                            12000 non-null object\n",
      "negativereason_gold             26 non-null object\n",
      "retweet_count                   12000 non-null int64\n",
      "text                            12000 non-null object\n",
      "tweet_coord                     842 non-null object\n",
      "tweet_created                   12000 non-null object\n",
      "tweet_location                  8170 non-null object\n",
      "user_timezone                   8085 non-null object\n",
      "dtypes: float64(2), int64(2), object(11)\n",
      "memory usage: 1.4+ MB\n"
     ]
    }
   ],
   "source": [
    "train.info()"
   ]
  },
  {
   "cell_type": "code",
   "execution_count": 5,
   "metadata": {},
   "outputs": [
    {
     "data": {
      "text/plain": [
       "25"
      ]
     },
     "execution_count": 5,
     "metadata": {},
     "output_type": "execute_result"
    }
   ],
   "source": [
    "train.duplicated().sum()"
   ]
  },
  {
   "cell_type": "code",
   "execution_count": 6,
   "metadata": {},
   "outputs": [],
   "source": [
    "train = train.drop_duplicates(keep= 'first')"
   ]
  },
  {
   "cell_type": "code",
   "execution_count": 7,
   "metadata": {},
   "outputs": [
    {
     "data": {
      "text/plain": [
       "(11975, 15)"
      ]
     },
     "execution_count": 7,
     "metadata": {},
     "output_type": "execute_result"
    }
   ],
   "source": [
    "train.shape"
   ]
  },
  {
   "cell_type": "code",
   "execution_count": 8,
   "metadata": {},
   "outputs": [
    {
     "data": {
      "text/html": [
       "<div>\n",
       "<style scoped>\n",
       "    .dataframe tbody tr th:only-of-type {\n",
       "        vertical-align: middle;\n",
       "    }\n",
       "\n",
       "    .dataframe tbody tr th {\n",
       "        vertical-align: top;\n",
       "    }\n",
       "\n",
       "    .dataframe thead th {\n",
       "        text-align: right;\n",
       "    }\n",
       "</style>\n",
       "<table border=\"1\" class=\"dataframe\">\n",
       "  <thead>\n",
       "    <tr style=\"text-align: right;\">\n",
       "      <th></th>\n",
       "      <th>tweet_id</th>\n",
       "      <th>airline_sentiment_confidence</th>\n",
       "      <th>negativereason</th>\n",
       "      <th>negativereason_confidence</th>\n",
       "      <th>airline</th>\n",
       "      <th>airline_sentiment_gold</th>\n",
       "      <th>name</th>\n",
       "      <th>negativereason_gold</th>\n",
       "      <th>retweet_count</th>\n",
       "      <th>text</th>\n",
       "      <th>tweet_coord</th>\n",
       "      <th>tweet_created</th>\n",
       "      <th>tweet_location</th>\n",
       "      <th>user_timezone</th>\n",
       "    </tr>\n",
       "  </thead>\n",
       "  <tbody>\n",
       "    <tr>\n",
       "      <th>0</th>\n",
       "      <td>570031016800161792</td>\n",
       "      <td>1.0000</td>\n",
       "      <td>Lost Luggage</td>\n",
       "      <td>1.0000</td>\n",
       "      <td>United</td>\n",
       "      <td>NaN</td>\n",
       "      <td>tpensari</td>\n",
       "      <td>NaN</td>\n",
       "      <td>0</td>\n",
       "      <td>@united well someone should tell that to the e...</td>\n",
       "      <td>NaN</td>\n",
       "      <td>2015-02-23 17:22:39 -0800</td>\n",
       "      <td>NaN</td>\n",
       "      <td>NaN</td>\n",
       "    </tr>\n",
       "    <tr>\n",
       "      <th>1</th>\n",
       "      <td>569948646717812736</td>\n",
       "      <td>1.0000</td>\n",
       "      <td>NaN</td>\n",
       "      <td>NaN</td>\n",
       "      <td>American</td>\n",
       "      <td>NaN</td>\n",
       "      <td>Metalmikefisher</td>\n",
       "      <td>NaN</td>\n",
       "      <td>0</td>\n",
       "      <td>@AmericanAir Let's all have a extraordinary we...</td>\n",
       "      <td>NaN</td>\n",
       "      <td>2015-02-23 11:55:21 -0800</td>\n",
       "      <td>NaN</td>\n",
       "      <td>Eastern Time (US &amp; Canada)</td>\n",
       "    </tr>\n",
       "    <tr>\n",
       "      <th>2</th>\n",
       "      <td>569469326547222528</td>\n",
       "      <td>0.6811</td>\n",
       "      <td>Late Flight</td>\n",
       "      <td>0.6811</td>\n",
       "      <td>United</td>\n",
       "      <td>NaN</td>\n",
       "      <td>jlongoria21</td>\n",
       "      <td>NaN</td>\n",
       "      <td>0</td>\n",
       "      <td>@united since I have an international connecti...</td>\n",
       "      <td>NaN</td>\n",
       "      <td>2015-02-22 04:10:42 -0800</td>\n",
       "      <td>Rio Grande Valley, Texas</td>\n",
       "      <td>Central Time (US &amp; Canada)</td>\n",
       "    </tr>\n",
       "    <tr>\n",
       "      <th>3</th>\n",
       "      <td>569512239209824256</td>\n",
       "      <td>1.0000</td>\n",
       "      <td>Customer Service Issue</td>\n",
       "      <td>0.6812</td>\n",
       "      <td>Delta</td>\n",
       "      <td>NaN</td>\n",
       "      <td>cshells4</td>\n",
       "      <td>NaN</td>\n",
       "      <td>0</td>\n",
       "      <td>@JetBlue woulda been nice of you to let us kno...</td>\n",
       "      <td>NaN</td>\n",
       "      <td>2015-02-22 07:01:13 -0800</td>\n",
       "      <td>Connecticut</td>\n",
       "      <td>NaN</td>\n",
       "    </tr>\n",
       "    <tr>\n",
       "      <th>4</th>\n",
       "      <td>567842370533867520</td>\n",
       "      <td>1.0000</td>\n",
       "      <td>Customer Service Issue</td>\n",
       "      <td>1.0000</td>\n",
       "      <td>US Airways</td>\n",
       "      <td>NaN</td>\n",
       "      <td>suzanneboles</td>\n",
       "      <td>NaN</td>\n",
       "      <td>0</td>\n",
       "      <td>@USAirways contd.. They put her on 7 pm flite ...</td>\n",
       "      <td>NaN</td>\n",
       "      <td>2015-02-17 16:25:45 -0800</td>\n",
       "      <td>London, ON'</td>\n",
       "      <td>Eastern Time (US &amp; Canada)</td>\n",
       "    </tr>\n",
       "  </tbody>\n",
       "</table>\n",
       "</div>"
      ],
      "text/plain": [
       "             tweet_id  airline_sentiment_confidence          negativereason  \\\n",
       "0  570031016800161792                        1.0000            Lost Luggage   \n",
       "1  569948646717812736                        1.0000                     NaN   \n",
       "2  569469326547222528                        0.6811             Late Flight   \n",
       "3  569512239209824256                        1.0000  Customer Service Issue   \n",
       "4  567842370533867520                        1.0000  Customer Service Issue   \n",
       "\n",
       "   negativereason_confidence     airline airline_sentiment_gold  \\\n",
       "0                     1.0000      United                    NaN   \n",
       "1                        NaN    American                    NaN   \n",
       "2                     0.6811      United                    NaN   \n",
       "3                     0.6812       Delta                    NaN   \n",
       "4                     1.0000  US Airways                    NaN   \n",
       "\n",
       "              name negativereason_gold  retweet_count  \\\n",
       "0         tpensari                 NaN              0   \n",
       "1  Metalmikefisher                 NaN              0   \n",
       "2      jlongoria21                 NaN              0   \n",
       "3         cshells4                 NaN              0   \n",
       "4     suzanneboles                 NaN              0   \n",
       "\n",
       "                                                text tweet_coord  \\\n",
       "0  @united well someone should tell that to the e...         NaN   \n",
       "1  @AmericanAir Let's all have a extraordinary we...         NaN   \n",
       "2  @united since I have an international connecti...         NaN   \n",
       "3  @JetBlue woulda been nice of you to let us kno...         NaN   \n",
       "4  @USAirways contd.. They put her on 7 pm flite ...         NaN   \n",
       "\n",
       "               tweet_created            tweet_location  \\\n",
       "0  2015-02-23 17:22:39 -0800                       NaN   \n",
       "1  2015-02-23 11:55:21 -0800                       NaN   \n",
       "2  2015-02-22 04:10:42 -0800  Rio Grande Valley, Texas   \n",
       "3  2015-02-22 07:01:13 -0800               Connecticut   \n",
       "4  2015-02-17 16:25:45 -0800               London, ON'   \n",
       "\n",
       "                user_timezone  \n",
       "0                         NaN  \n",
       "1  Eastern Time (US & Canada)  \n",
       "2  Central Time (US & Canada)  \n",
       "3                         NaN  \n",
       "4  Eastern Time (US & Canada)  "
      ]
     },
     "execution_count": 8,
     "metadata": {},
     "output_type": "execute_result"
    }
   ],
   "source": [
    "test = pd.read_csv('TEST.csv')\n",
    "test.head()"
   ]
  },
  {
   "cell_type": "code",
   "execution_count": 9,
   "metadata": {},
   "outputs": [
    {
     "data": {
      "text/plain": [
       "(2640, 14)"
      ]
     },
     "execution_count": 9,
     "metadata": {},
     "output_type": "execute_result"
    }
   ],
   "source": [
    "test.shape"
   ]
  },
  {
   "cell_type": "code",
   "execution_count": 10,
   "metadata": {},
   "outputs": [
    {
     "name": "stdout",
     "output_type": "stream",
     "text": [
      "<class 'pandas.core.frame.DataFrame'>\n",
      "RangeIndex: 2640 entries, 0 to 2639\n",
      "Data columns (total 14 columns):\n",
      "tweet_id                        2640 non-null int64\n",
      "airline_sentiment_confidence    2640 non-null float64\n",
      "negativereason                  1661 non-null object\n",
      "negativereason_confidence       1906 non-null float64\n",
      "airline                         2640 non-null object\n",
      "airline_sentiment_gold          9 non-null object\n",
      "name                            2640 non-null object\n",
      "negativereason_gold             6 non-null object\n",
      "retweet_count                   2640 non-null int64\n",
      "text                            2640 non-null object\n",
      "tweet_coord                     177 non-null object\n",
      "tweet_created                   2640 non-null object\n",
      "tweet_location                  1737 non-null object\n",
      "user_timezone                   1735 non-null object\n",
      "dtypes: float64(2), int64(2), object(10)\n",
      "memory usage: 288.8+ KB\n"
     ]
    }
   ],
   "source": [
    "test.info()"
   ]
  },
  {
   "cell_type": "code",
   "execution_count": 11,
   "metadata": {},
   "outputs": [],
   "source": [
    "train['negativereason_confidence'] = train['negativereason_confidence'].fillna(train['negativereason_confidence'].mean())\n",
    "test['negativereason_confidence'] = test['negativereason_confidence'].fillna(test['negativereason_confidence'].mean())"
   ]
  },
  {
   "cell_type": "code",
   "execution_count": 12,
   "metadata": {},
   "outputs": [],
   "source": [
    "train = train.drop(['airline_sentiment_gold', 'negativereason_gold', 'tweet_coord', 'tweet_location', 'user_timezone'], axis = 1)\n",
    "test = test.drop(['airline_sentiment_gold', 'negativereason_gold', 'tweet_coord', 'tweet_location', 'user_timezone'], axis = 1)"
   ]
  },
  {
   "cell_type": "code",
   "execution_count": 13,
   "metadata": {},
   "outputs": [],
   "source": [
    "newtrain = train\n",
    "newtest = test"
   ]
  },
  {
   "cell_type": "code",
   "execution_count": 14,
   "metadata": {},
   "outputs": [
    {
     "data": {
      "text/html": [
       "<div>\n",
       "<style scoped>\n",
       "    .dataframe tbody tr th:only-of-type {\n",
       "        vertical-align: middle;\n",
       "    }\n",
       "\n",
       "    .dataframe tbody tr th {\n",
       "        vertical-align: top;\n",
       "    }\n",
       "\n",
       "    .dataframe thead th {\n",
       "        text-align: right;\n",
       "    }\n",
       "</style>\n",
       "<table border=\"1\" class=\"dataframe\">\n",
       "  <thead>\n",
       "    <tr style=\"text-align: right;\">\n",
       "      <th></th>\n",
       "      <th>tweet_id</th>\n",
       "      <th>airline_sentiment</th>\n",
       "      <th>airline_sentiment_confidence</th>\n",
       "      <th>negativereason</th>\n",
       "      <th>negativereason_confidence</th>\n",
       "      <th>airline</th>\n",
       "      <th>name</th>\n",
       "      <th>retweet_count</th>\n",
       "      <th>text</th>\n",
       "      <th>tweet_created</th>\n",
       "    </tr>\n",
       "  </thead>\n",
       "  <tbody>\n",
       "    <tr>\n",
       "      <th>0</th>\n",
       "      <td>570018445695148033</td>\n",
       "      <td>negative</td>\n",
       "      <td>1.0</td>\n",
       "      <td>Customer Service Issue</td>\n",
       "      <td>0.656000</td>\n",
       "      <td>United</td>\n",
       "      <td>tpensari</td>\n",
       "      <td>0</td>\n",
       "      <td>@united your customer service is terrible! Sto...</td>\n",
       "      <td>2015-02-23 16:32:42 -0800</td>\n",
       "    </tr>\n",
       "    <tr>\n",
       "      <th>1</th>\n",
       "      <td>568830255282040832</td>\n",
       "      <td>neutral</td>\n",
       "      <td>1.0</td>\n",
       "      <td>NaN</td>\n",
       "      <td>0.636725</td>\n",
       "      <td>Southwest</td>\n",
       "      <td>leavenodoubt131</td>\n",
       "      <td>0</td>\n",
       "      <td>@SouthwestAir  I will dm you now</td>\n",
       "      <td>2015-02-20 09:51:15 -0800</td>\n",
       "    </tr>\n",
       "    <tr>\n",
       "      <th>2</th>\n",
       "      <td>569296356143050754</td>\n",
       "      <td>negative</td>\n",
       "      <td>1.0</td>\n",
       "      <td>longlines</td>\n",
       "      <td>0.346200</td>\n",
       "      <td>United</td>\n",
       "      <td>ScottyNeuman</td>\n",
       "      <td>1</td>\n",
       "      <td>@united congratulations united. Fail again. Sk...</td>\n",
       "      <td>2015-02-21 16:43:22 -0800</td>\n",
       "    </tr>\n",
       "  </tbody>\n",
       "</table>\n",
       "</div>"
      ],
      "text/plain": [
       "             tweet_id airline_sentiment  airline_sentiment_confidence  \\\n",
       "0  570018445695148033          negative                           1.0   \n",
       "1  568830255282040832           neutral                           1.0   \n",
       "2  569296356143050754          negative                           1.0   \n",
       "\n",
       "           negativereason  negativereason_confidence    airline  \\\n",
       "0  Customer Service Issue                   0.656000     United   \n",
       "1                     NaN                   0.636725  Southwest   \n",
       "2               longlines                   0.346200     United   \n",
       "\n",
       "              name  retweet_count  \\\n",
       "0         tpensari              0   \n",
       "1  leavenodoubt131              0   \n",
       "2     ScottyNeuman              1   \n",
       "\n",
       "                                                text  \\\n",
       "0  @united your customer service is terrible! Sto...   \n",
       "1                   @SouthwestAir  I will dm you now   \n",
       "2  @united congratulations united. Fail again. Sk...   \n",
       "\n",
       "               tweet_created  \n",
       "0  2015-02-23 16:32:42 -0800  \n",
       "1  2015-02-20 09:51:15 -0800  \n",
       "2  2015-02-21 16:43:22 -0800  "
      ]
     },
     "execution_count": 14,
     "metadata": {},
     "output_type": "execute_result"
    }
   ],
   "source": [
    "newtrain.head(3)"
   ]
  },
  {
   "cell_type": "code",
   "execution_count": 15,
   "metadata": {},
   "outputs": [
    {
     "data": {
      "text/plain": [
       "Customer Service Issue         2365\n",
       "Late Flight                    1383\n",
       "Can't Tell                      957\n",
       "Cancelled Flight                683\n",
       "Lost Luggage                    597\n",
       "Bad Flight                      485\n",
       "Flight Booking Problems         442\n",
       "Flight Attendant Complaints     384\n",
       "longlines                       146\n",
       "Damaged Luggage                  61\n",
       "Name: negativereason, dtype: int64"
      ]
     },
     "execution_count": 15,
     "metadata": {},
     "output_type": "execute_result"
    }
   ],
   "source": [
    "newtrain['negativereason'].value_counts()"
   ]
  },
  {
   "cell_type": "code",
   "execution_count": 16,
   "metadata": {},
   "outputs": [],
   "source": [
    "train['negativereason'] = train['negativereason'].fillna(train['negativereason'].value_counts().index[0])\n",
    "test['negativereason'] = test['negativereason'].fillna(test['negativereason'].value_counts().index[0])"
   ]
  },
  {
   "cell_type": "code",
   "execution_count": 17,
   "metadata": {},
   "outputs": [],
   "source": [
    "newtrain = newtrain.drop('tweet_id', axis = 1)\n",
    "newtest = newtest.drop('tweet_id', axis = 1)"
   ]
  },
  {
   "cell_type": "code",
   "execution_count": 18,
   "metadata": {},
   "outputs": [
    {
     "data": {
      "text/plain": [
       "airline_sentiment               0\n",
       "airline_sentiment_confidence    0\n",
       "negativereason                  0\n",
       "negativereason_confidence       0\n",
       "airline                         0\n",
       "name                            0\n",
       "retweet_count                   0\n",
       "text                            0\n",
       "tweet_created                   0\n",
       "dtype: int64"
      ]
     },
     "execution_count": 18,
     "metadata": {},
     "output_type": "execute_result"
    }
   ],
   "source": [
    "newtrain.isnull().sum()"
   ]
  },
  {
   "cell_type": "code",
   "execution_count": 19,
   "metadata": {},
   "outputs": [
    {
     "data": {
      "text/plain": [
       "airline_sentiment_confidence    0\n",
       "negativereason                  0\n",
       "negativereason_confidence       0\n",
       "airline                         0\n",
       "name                            0\n",
       "retweet_count                   0\n",
       "text                            0\n",
       "tweet_created                   0\n",
       "dtype: int64"
      ]
     },
     "execution_count": 19,
     "metadata": {},
     "output_type": "execute_result"
    }
   ],
   "source": [
    "newtest.isnull().sum()"
   ]
  },
  {
   "cell_type": "code",
   "execution_count": 20,
   "metadata": {},
   "outputs": [
    {
     "data": {
      "text/plain": [
       "negative    7503\n",
       "neutral     2555\n",
       "positive    1917\n",
       "Name: airline_sentiment, dtype: int64"
      ]
     },
     "execution_count": 20,
     "metadata": {},
     "output_type": "execute_result"
    }
   ],
   "source": [
    "newtrain['airline_sentiment'].value_counts()"
   ]
  },
  {
   "cell_type": "code",
   "execution_count": 21,
   "metadata": {},
   "outputs": [],
   "source": [
    "from bs4 import BeautifulSoup"
   ]
  },
  {
   "cell_type": "code",
   "execution_count": 22,
   "metadata": {},
   "outputs": [],
   "source": [
    "import nltk\n",
    "from nltk.corpus import stopwords\n",
    "from nltk.stem.porter import PorterStemmer"
   ]
  },
  {
   "cell_type": "code",
   "execution_count": 23,
   "metadata": {},
   "outputs": [],
   "source": [
    "ps = PorterStemmer()"
   ]
  },
  {
   "cell_type": "code",
   "execution_count": 24,
   "metadata": {},
   "outputs": [],
   "source": [
    "from nltk.stem import WordNetLemmatizer\n",
    "\n",
    "lem = WordNetLemmatizer()"
   ]
  },
  {
   "cell_type": "code",
   "execution_count": 25,
   "metadata": {},
   "outputs": [],
   "source": [
    "from sklearn.feature_extraction.text import CountVectorizer\n",
    "count_vec = CountVectorizer()"
   ]
  },
  {
   "cell_type": "code",
   "execution_count": 26,
   "metadata": {},
   "outputs": [],
   "source": [
    "from sklearn.preprocessing import LabelEncoder\n",
    "le = LabelEncoder()\n",
    "newtrain['airline_sentiment'] = le.fit_transform(newtrain['airline_sentiment'])"
   ]
  },
  {
   "cell_type": "code",
   "execution_count": 27,
   "metadata": {},
   "outputs": [],
   "source": [
    "from sklearn.model_selection import train_test_split\n",
    "x_train, x_test, y_train, y_test = train_test_split(newtrain['text'], newtrain['airline_sentiment'], test_size = 0.3, random_state = 0)"
   ]
  },
  {
   "cell_type": "code",
   "execution_count": 28,
   "metadata": {},
   "outputs": [
    {
     "data": {
      "text/plain": [
       "8382"
      ]
     },
     "execution_count": 28,
     "metadata": {},
     "output_type": "execute_result"
    }
   ],
   "source": [
    "x_train.shape[0]"
   ]
  },
  {
   "cell_type": "code",
   "execution_count": 29,
   "metadata": {},
   "outputs": [],
   "source": [
    "corpus_train = []\n",
    "corpus_test  = []\n",
    "\n",
    "for i in range(x_train.shape[0]):\n",
    "    soup = BeautifulSoup(x_train.iloc[i], \"html.parser\")\n",
    "    review = soup.get_text()\n",
    "    review = re.sub('\\[[^]]*\\]', ' ', review)\n",
    "    review = re.sub('[^a-zA-Z]', ' ', review)\n",
    "    review = review.lower()\n",
    "    review = review.split()\n",
    "    review = [word for word in review if not word in set(stopwords.words('english'))]\n",
    "    lem = WordNetLemmatizer()\n",
    "    review = [lem.lemmatize(word) for word in review]\n",
    "    review = ' '.join(review)\n",
    "    corpus_train.append(review)"
   ]
  },
  {
   "cell_type": "code",
   "execution_count": 30,
   "metadata": {},
   "outputs": [],
   "source": [
    "for j in range(x_test.shape[0]):\n",
    "    soup = BeautifulSoup(x_test.iloc[j], \"html.parser\")\n",
    "    review = soup.get_text()\n",
    "    review = re.sub('\\[[^]]*\\]', ' ', review)\n",
    "    review = re.sub('[^a-zA-Z]', ' ', review)\n",
    "    review = review.lower()\n",
    "    review = review.split()\n",
    "    review = [word for word in review if not word in set(stopwords.words('english'))]\n",
    "    lem = WordNetLemmatizer()\n",
    "    review = [lem.lemmatize(word) for word in review]\n",
    "    review = ' '.join(review)\n",
    "    corpus_test.append(review)"
   ]
  },
  {
   "cell_type": "code",
   "execution_count": 31,
   "metadata": {},
   "outputs": [],
   "source": [
    "from sklearn.feature_extraction.text import TfidfVectorizer\n",
    "tfidf_vec = TfidfVectorizer(ngram_range=(1, 3))\n",
    "\n",
    "tfidf_vec_train = tfidf_vec.fit_transform(corpus_train)\n",
    "tfidf_vec_test = tfidf_vec.transform(corpus_test)"
   ]
  },
  {
   "cell_type": "code",
   "execution_count": 32,
   "metadata": {},
   "outputs": [],
   "source": [
    "from sklearn.ensemble import RandomForestClassifier\n",
    "linear_svc = RandomForestClassifier()"
   ]
  },
  {
   "cell_type": "code",
   "execution_count": 33,
   "metadata": {},
   "outputs": [
    {
     "data": {
      "text/plain": [
       "RandomForestClassifier(bootstrap=True, ccp_alpha=0.0, class_weight=None,\n",
       "                       criterion='gini', max_depth=None, max_features='auto',\n",
       "                       max_leaf_nodes=None, max_samples=None,\n",
       "                       min_impurity_decrease=0.0, min_impurity_split=None,\n",
       "                       min_samples_leaf=1, min_samples_split=2,\n",
       "                       min_weight_fraction_leaf=0.0, n_estimators=100,\n",
       "                       n_jobs=None, oob_score=False, random_state=None,\n",
       "                       verbose=0, warm_start=False)"
      ]
     },
     "execution_count": 33,
     "metadata": {},
     "output_type": "execute_result"
    }
   ],
   "source": [
    "linear_svc.fit(tfidf_vec_train, y_train)"
   ]
  },
  {
   "cell_type": "code",
   "execution_count": 34,
   "metadata": {},
   "outputs": [],
   "source": [
    "predict = linear_svc.predict(tfidf_vec_test)"
   ]
  },
  {
   "cell_type": "code",
   "execution_count": 35,
   "metadata": {},
   "outputs": [],
   "source": [
    "from sklearn.metrics import classification_report, confusion_matrix, accuracy_score"
   ]
  },
  {
   "cell_type": "code",
   "execution_count": 36,
   "metadata": {},
   "outputs": [
    {
     "name": "stdout",
     "output_type": "stream",
     "text": [
      "              precision    recall  f1-score   support\n",
      "\n",
      "           0       0.82      0.86      0.84      2261\n",
      "           1       0.52      0.54      0.53       748\n",
      "           2       0.77      0.57      0.65       584\n",
      "\n",
      "    accuracy                           0.75      3593\n",
      "   macro avg       0.70      0.66      0.67      3593\n",
      "weighted avg       0.75      0.75      0.74      3593\n",
      "\n"
     ]
    }
   ],
   "source": [
    "print(classification_report(y_test, predict))"
   ]
  },
  {
   "cell_type": "code",
   "execution_count": 37,
   "metadata": {},
   "outputs": [
    {
     "name": "stdout",
     "output_type": "stream",
     "text": [
      "[[1943  265   53]\n",
      " [ 298  404   46]\n",
      " [ 137  115  332]]\n"
     ]
    }
   ],
   "source": [
    "print(confusion_matrix(y_test, predict))"
   ]
  },
  {
   "cell_type": "code",
   "execution_count": 38,
   "metadata": {},
   "outputs": [
    {
     "name": "stdout",
     "output_type": "stream",
     "text": [
      "Accuracy: 0.7456164764820484\n"
     ]
    }
   ],
   "source": [
    "print(\"Accuracy:\", accuracy_score(y_test, predict))"
   ]
  },
  {
   "cell_type": "code",
   "execution_count": 39,
   "metadata": {},
   "outputs": [
    {
     "data": {
      "text/html": [
       "<div>\n",
       "<style scoped>\n",
       "    .dataframe tbody tr th:only-of-type {\n",
       "        vertical-align: middle;\n",
       "    }\n",
       "\n",
       "    .dataframe tbody tr th {\n",
       "        vertical-align: top;\n",
       "    }\n",
       "\n",
       "    .dataframe thead th {\n",
       "        text-align: right;\n",
       "    }\n",
       "</style>\n",
       "<table border=\"1\" class=\"dataframe\">\n",
       "  <thead>\n",
       "    <tr style=\"text-align: right;\">\n",
       "      <th></th>\n",
       "      <th>airline_sentiment</th>\n",
       "      <th>airline_sentiment_confidence</th>\n",
       "      <th>negativereason</th>\n",
       "      <th>negativereason_confidence</th>\n",
       "      <th>airline</th>\n",
       "      <th>name</th>\n",
       "      <th>retweet_count</th>\n",
       "      <th>text</th>\n",
       "      <th>tweet_created</th>\n",
       "    </tr>\n",
       "  </thead>\n",
       "  <tbody>\n",
       "    <tr>\n",
       "      <th>0</th>\n",
       "      <td>0</td>\n",
       "      <td>1.0</td>\n",
       "      <td>Customer Service Issue</td>\n",
       "      <td>0.656000</td>\n",
       "      <td>United</td>\n",
       "      <td>tpensari</td>\n",
       "      <td>0</td>\n",
       "      <td>@united your customer service is terrible! Sto...</td>\n",
       "      <td>2015-02-23 16:32:42 -0800</td>\n",
       "    </tr>\n",
       "    <tr>\n",
       "      <th>1</th>\n",
       "      <td>1</td>\n",
       "      <td>1.0</td>\n",
       "      <td>Customer Service Issue</td>\n",
       "      <td>0.636725</td>\n",
       "      <td>Southwest</td>\n",
       "      <td>leavenodoubt131</td>\n",
       "      <td>0</td>\n",
       "      <td>@SouthwestAir  I will dm you now</td>\n",
       "      <td>2015-02-20 09:51:15 -0800</td>\n",
       "    </tr>\n",
       "    <tr>\n",
       "      <th>2</th>\n",
       "      <td>0</td>\n",
       "      <td>1.0</td>\n",
       "      <td>longlines</td>\n",
       "      <td>0.346200</td>\n",
       "      <td>United</td>\n",
       "      <td>ScottyNeuman</td>\n",
       "      <td>1</td>\n",
       "      <td>@united congratulations united. Fail again. Sk...</td>\n",
       "      <td>2015-02-21 16:43:22 -0800</td>\n",
       "    </tr>\n",
       "    <tr>\n",
       "      <th>3</th>\n",
       "      <td>2</td>\n",
       "      <td>1.0</td>\n",
       "      <td>Customer Service Issue</td>\n",
       "      <td>0.636725</td>\n",
       "      <td>United</td>\n",
       "      <td>koploperfan1992</td>\n",
       "      <td>0</td>\n",
       "      <td>@united look at this beauty 😉 dc 10 united air...</td>\n",
       "      <td>2015-02-23 11:07:38 -0800</td>\n",
       "    </tr>\n",
       "    <tr>\n",
       "      <th>4</th>\n",
       "      <td>2</td>\n",
       "      <td>1.0</td>\n",
       "      <td>Customer Service Issue</td>\n",
       "      <td>0.636725</td>\n",
       "      <td>Delta</td>\n",
       "      <td>sandyy889</td>\n",
       "      <td>0</td>\n",
       "      <td>@JetBlue Landing! As usual great flight wiyh a...</td>\n",
       "      <td>2015-02-22 09:00:26 -0800</td>\n",
       "    </tr>\n",
       "  </tbody>\n",
       "</table>\n",
       "</div>"
      ],
      "text/plain": [
       "   airline_sentiment  airline_sentiment_confidence          negativereason  \\\n",
       "0                  0                           1.0  Customer Service Issue   \n",
       "1                  1                           1.0  Customer Service Issue   \n",
       "2                  0                           1.0               longlines   \n",
       "3                  2                           1.0  Customer Service Issue   \n",
       "4                  2                           1.0  Customer Service Issue   \n",
       "\n",
       "   negativereason_confidence    airline             name  retweet_count  \\\n",
       "0                   0.656000     United         tpensari              0   \n",
       "1                   0.636725  Southwest  leavenodoubt131              0   \n",
       "2                   0.346200     United     ScottyNeuman              1   \n",
       "3                   0.636725     United  koploperfan1992              0   \n",
       "4                   0.636725      Delta        sandyy889              0   \n",
       "\n",
       "                                                text  \\\n",
       "0  @united your customer service is terrible! Sto...   \n",
       "1                   @SouthwestAir  I will dm you now   \n",
       "2  @united congratulations united. Fail again. Sk...   \n",
       "3  @united look at this beauty 😉 dc 10 united air...   \n",
       "4  @JetBlue Landing! As usual great flight wiyh a...   \n",
       "\n",
       "               tweet_created  \n",
       "0  2015-02-23 16:32:42 -0800  \n",
       "1  2015-02-20 09:51:15 -0800  \n",
       "2  2015-02-21 16:43:22 -0800  \n",
       "3  2015-02-23 11:07:38 -0800  \n",
       "4  2015-02-22 09:00:26 -0800  "
      ]
     },
     "execution_count": 39,
     "metadata": {},
     "output_type": "execute_result"
    }
   ],
   "source": [
    "newtrain.head()"
   ]
  },
  {
   "cell_type": "code",
   "execution_count": 40,
   "metadata": {},
   "outputs": [],
   "source": [
    "x_train = newtrain['text']\n",
    "y_train = newtrain['airline_sentiment']\n",
    "x_test = newtest['text']"
   ]
  },
  {
   "cell_type": "code",
   "execution_count": 41,
   "metadata": {},
   "outputs": [],
   "source": [
    "ps = PorterStemmer()"
   ]
  },
  {
   "cell_type": "code",
   "execution_count": 42,
   "metadata": {},
   "outputs": [],
   "source": [
    "from nltk.stem import WordNetLemmatizer\n",
    "\n",
    "lem = WordNetLemmatizer()"
   ]
  },
  {
   "cell_type": "code",
   "execution_count": 43,
   "metadata": {},
   "outputs": [],
   "source": [
    "from sklearn.feature_extraction.text import CountVectorizer\n",
    "count_vec = CountVectorizer()"
   ]
  },
  {
   "cell_type": "code",
   "execution_count": 44,
   "metadata": {},
   "outputs": [],
   "source": [
    "corpus_train = []\n",
    "corpus_test  = []\n",
    "\n",
    "for i in range(x_train.shape[0]):\n",
    "    soup = BeautifulSoup(x_train.iloc[i], \"html.parser\")\n",
    "    review = soup.get_text()\n",
    "    review = re.sub('\\[[^]]*\\]', ' ', review)\n",
    "    review = re.sub('[^a-zA-Z]', ' ', review)\n",
    "    review = review.lower()\n",
    "    review = review.split()\n",
    "    review = [word for word in review if not word in set(stopwords.words('english'))]\n",
    "    lem = WordNetLemmatizer()\n",
    "    review = [lem.lemmatize(word) for word in review]\n",
    "    review = ' '.join(review)\n",
    "    corpus_train.append(review)"
   ]
  },
  {
   "cell_type": "code",
   "execution_count": 45,
   "metadata": {},
   "outputs": [],
   "source": [
    "for j in range(x_test.shape[0]):\n",
    "    soup = BeautifulSoup(x_test.iloc[j], \"html.parser\")\n",
    "    review = soup.get_text()\n",
    "    review = re.sub('\\[[^]]*\\]', ' ', review)\n",
    "    review = re.sub('[^a-zA-Z]', ' ', review)\n",
    "    review = review.lower()\n",
    "    review = review.split()\n",
    "    review = [word for word in review if not word in set(stopwords.words('english'))]\n",
    "    lem = WordNetLemmatizer()\n",
    "    review = [lem.lemmatize(word) for word in review]\n",
    "    review = ' '.join(review)\n",
    "    corpus_test.append(review)"
   ]
  },
  {
   "cell_type": "code",
   "execution_count": 46,
   "metadata": {},
   "outputs": [],
   "source": [
    "from sklearn.feature_extraction.text import TfidfVectorizer\n",
    "tfidf_vec = TfidfVectorizer(ngram_range=(1, 3))\n",
    "\n",
    "tfidf_vec_train = tfidf_vec.fit_transform(corpus_train)\n",
    "tfidf_vec_test = tfidf_vec.transform(corpus_test)"
   ]
  },
  {
   "cell_type": "code",
   "execution_count": 47,
   "metadata": {},
   "outputs": [],
   "source": [
    "from sklearn.ensemble import RandomForestClassifier\n",
    "linear_svc = RandomForestClassifier()"
   ]
  },
  {
   "cell_type": "code",
   "execution_count": 48,
   "metadata": {},
   "outputs": [
    {
     "data": {
      "text/plain": [
       "RandomForestClassifier(bootstrap=True, ccp_alpha=0.0, class_weight=None,\n",
       "                       criterion='gini', max_depth=None, max_features='auto',\n",
       "                       max_leaf_nodes=None, max_samples=None,\n",
       "                       min_impurity_decrease=0.0, min_impurity_split=None,\n",
       "                       min_samples_leaf=1, min_samples_split=2,\n",
       "                       min_weight_fraction_leaf=0.0, n_estimators=100,\n",
       "                       n_jobs=None, oob_score=False, random_state=None,\n",
       "                       verbose=0, warm_start=False)"
      ]
     },
     "execution_count": 48,
     "metadata": {},
     "output_type": "execute_result"
    }
   ],
   "source": [
    "linear_svc.fit(tfidf_vec_train, y_train)"
   ]
  },
  {
   "cell_type": "code",
   "execution_count": 49,
   "metadata": {},
   "outputs": [],
   "source": [
    "predict = linear_svc.predict(tfidf_vec_test)"
   ]
  },
  {
   "cell_type": "code",
   "execution_count": 51,
   "metadata": {},
   "outputs": [],
   "source": [
    "solution = pd.DataFrame({'Sentiment': le.inverse_transform(predict)})\n",
    "solution.to_csv('RF.csv')"
   ]
  },
  {
   "cell_type": "code",
   "execution_count": null,
   "metadata": {},
   "outputs": [],
   "source": []
  }
 ],
 "metadata": {
  "kernelspec": {
   "display_name": "Python 3",
   "language": "python",
   "name": "python3"
  },
  "language_info": {
   "codemirror_mode": {
    "name": "ipython",
    "version": 3
   },
   "file_extension": ".py",
   "mimetype": "text/x-python",
   "name": "python",
   "nbconvert_exporter": "python",
   "pygments_lexer": "ipython3",
   "version": "3.7.3"
  }
 },
 "nbformat": 4,
 "nbformat_minor": 2
}
