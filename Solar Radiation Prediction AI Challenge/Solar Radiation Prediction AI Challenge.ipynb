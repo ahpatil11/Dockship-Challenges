{
 "cells": [
  {
   "cell_type": "code",
   "execution_count": 69,
   "metadata": {},
   "outputs": [],
   "source": [
    "import numpy as np\n",
    "import pandas as pd\n",
    "import matplotlib.pyplot as plt\n",
    "import seaborn as sns"
   ]
  },
  {
   "cell_type": "code",
   "execution_count": 70,
   "metadata": {},
   "outputs": [
    {
     "data": {
      "text/html": [
       "<div>\n",
       "<style scoped>\n",
       "    .dataframe tbody tr th:only-of-type {\n",
       "        vertical-align: middle;\n",
       "    }\n",
       "\n",
       "    .dataframe tbody tr th {\n",
       "        vertical-align: top;\n",
       "    }\n",
       "\n",
       "    .dataframe thead th {\n",
       "        text-align: right;\n",
       "    }\n",
       "</style>\n",
       "<table border=\"1\" class=\"dataframe\">\n",
       "  <thead>\n",
       "    <tr style=\"text-align: right;\">\n",
       "      <th></th>\n",
       "      <th>idx</th>\n",
       "      <th>UNIXTime</th>\n",
       "      <th>Data</th>\n",
       "      <th>Time</th>\n",
       "      <th>Radiation</th>\n",
       "      <th>Temperature</th>\n",
       "      <th>Pressure</th>\n",
       "      <th>Humidity</th>\n",
       "      <th>WindDirection(Degrees)</th>\n",
       "      <th>Speed</th>\n",
       "      <th>TimeSunRise</th>\n",
       "      <th>TimeSunSet</th>\n",
       "    </tr>\n",
       "  </thead>\n",
       "  <tbody>\n",
       "    <tr>\n",
       "      <th>0</th>\n",
       "      <td>0</td>\n",
       "      <td>1480107904</td>\n",
       "      <td>11/25/2016 12:00:00 AM</td>\n",
       "      <td>11:05:04</td>\n",
       "      <td>288.44</td>\n",
       "      <td>46</td>\n",
       "      <td>30.48</td>\n",
       "      <td>101</td>\n",
       "      <td>129.84</td>\n",
       "      <td>13.50</td>\n",
       "      <td>06:37:00</td>\n",
       "      <td>17:42:00</td>\n",
       "    </tr>\n",
       "    <tr>\n",
       "      <th>1</th>\n",
       "      <td>1</td>\n",
       "      <td>1472818508</td>\n",
       "      <td>9/2/2016 12:00:00 AM</td>\n",
       "      <td>02:15:08</td>\n",
       "      <td>2.79</td>\n",
       "      <td>50</td>\n",
       "      <td>30.42</td>\n",
       "      <td>75</td>\n",
       "      <td>173.90</td>\n",
       "      <td>6.75</td>\n",
       "      <td>06:07:00</td>\n",
       "      <td>18:37:00</td>\n",
       "    </tr>\n",
       "    <tr>\n",
       "      <th>2</th>\n",
       "      <td>2</td>\n",
       "      <td>1475804719</td>\n",
       "      <td>10/6/2016 12:00:00 AM</td>\n",
       "      <td>15:45:19</td>\n",
       "      <td>118.05</td>\n",
       "      <td>54</td>\n",
       "      <td>30.42</td>\n",
       "      <td>100</td>\n",
       "      <td>7.35</td>\n",
       "      <td>1.12</td>\n",
       "      <td>06:15:00</td>\n",
       "      <td>18:07:00</td>\n",
       "    </tr>\n",
       "    <tr>\n",
       "      <th>3</th>\n",
       "      <td>3</td>\n",
       "      <td>1482533149</td>\n",
       "      <td>12/23/2016 12:00:00 AM</td>\n",
       "      <td>12:45:49</td>\n",
       "      <td>853.17</td>\n",
       "      <td>58</td>\n",
       "      <td>30.44</td>\n",
       "      <td>57</td>\n",
       "      <td>81.67</td>\n",
       "      <td>11.25</td>\n",
       "      <td>06:54:00</td>\n",
       "      <td>17:50:00</td>\n",
       "    </tr>\n",
       "    <tr>\n",
       "      <th>4</th>\n",
       "      <td>4</td>\n",
       "      <td>1481883019</td>\n",
       "      <td>12/16/2016 12:00:00 AM</td>\n",
       "      <td>00:10:19</td>\n",
       "      <td>1.24</td>\n",
       "      <td>42</td>\n",
       "      <td>30.24</td>\n",
       "      <td>103</td>\n",
       "      <td>171.13</td>\n",
       "      <td>2.25</td>\n",
       "      <td>06:50:00</td>\n",
       "      <td>17:46:00</td>\n",
       "    </tr>\n",
       "  </tbody>\n",
       "</table>\n",
       "</div>"
      ],
      "text/plain": [
       "   idx    UNIXTime                    Data      Time  Radiation  Temperature  \\\n",
       "0    0  1480107904  11/25/2016 12:00:00 AM  11:05:04     288.44           46   \n",
       "1    1  1472818508    9/2/2016 12:00:00 AM  02:15:08       2.79           50   \n",
       "2    2  1475804719   10/6/2016 12:00:00 AM  15:45:19     118.05           54   \n",
       "3    3  1482533149  12/23/2016 12:00:00 AM  12:45:49     853.17           58   \n",
       "4    4  1481883019  12/16/2016 12:00:00 AM  00:10:19       1.24           42   \n",
       "\n",
       "   Pressure  Humidity  WindDirection(Degrees)  Speed TimeSunRise TimeSunSet  \n",
       "0     30.48       101                  129.84  13.50    06:37:00   17:42:00  \n",
       "1     30.42        75                  173.90   6.75    06:07:00   18:37:00  \n",
       "2     30.42       100                    7.35   1.12    06:15:00   18:07:00  \n",
       "3     30.44        57                   81.67  11.25    06:54:00   17:50:00  \n",
       "4     30.24       103                  171.13   2.25    06:50:00   17:46:00  "
      ]
     },
     "execution_count": 70,
     "metadata": {},
     "output_type": "execute_result"
    }
   ],
   "source": [
    "train = pd.read_csv('TRAIN.csv')\n",
    "train.head()"
   ]
  },
  {
   "cell_type": "code",
   "execution_count": 71,
   "metadata": {},
   "outputs": [
    {
     "data": {
      "text/plain": [
       "(26149, 12)"
      ]
     },
     "execution_count": 71,
     "metadata": {},
     "output_type": "execute_result"
    }
   ],
   "source": [
    "train.shape"
   ]
  },
  {
   "cell_type": "code",
   "execution_count": 72,
   "metadata": {},
   "outputs": [
    {
     "data": {
      "text/html": [
       "<div>\n",
       "<style scoped>\n",
       "    .dataframe tbody tr th:only-of-type {\n",
       "        vertical-align: middle;\n",
       "    }\n",
       "\n",
       "    .dataframe tbody tr th {\n",
       "        vertical-align: top;\n",
       "    }\n",
       "\n",
       "    .dataframe thead th {\n",
       "        text-align: right;\n",
       "    }\n",
       "</style>\n",
       "<table border=\"1\" class=\"dataframe\">\n",
       "  <thead>\n",
       "    <tr style=\"text-align: right;\">\n",
       "      <th></th>\n",
       "      <th>idx</th>\n",
       "      <th>UNIXTime</th>\n",
       "      <th>Radiation</th>\n",
       "      <th>Temperature</th>\n",
       "      <th>Pressure</th>\n",
       "      <th>Humidity</th>\n",
       "      <th>WindDirection(Degrees)</th>\n",
       "      <th>Speed</th>\n",
       "    </tr>\n",
       "  </thead>\n",
       "  <tbody>\n",
       "    <tr>\n",
       "      <th>count</th>\n",
       "      <td>26149.000000</td>\n",
       "      <td>2.614900e+04</td>\n",
       "      <td>26149.000000</td>\n",
       "      <td>26149.000000</td>\n",
       "      <td>26149.000000</td>\n",
       "      <td>26149.000000</td>\n",
       "      <td>26149.000000</td>\n",
       "      <td>26149.000000</td>\n",
       "    </tr>\n",
       "    <tr>\n",
       "      <th>mean</th>\n",
       "      <td>13074.000000</td>\n",
       "      <td>1.478046e+09</td>\n",
       "      <td>208.621000</td>\n",
       "      <td>51.135110</td>\n",
       "      <td>30.423005</td>\n",
       "      <td>74.970936</td>\n",
       "      <td>143.368247</td>\n",
       "      <td>6.262052</td>\n",
       "    </tr>\n",
       "    <tr>\n",
       "      <th>std</th>\n",
       "      <td>7548.710431</td>\n",
       "      <td>3.004309e+06</td>\n",
       "      <td>316.089736</td>\n",
       "      <td>6.212018</td>\n",
       "      <td>0.054679</td>\n",
       "      <td>26.008728</td>\n",
       "      <td>83.424186</td>\n",
       "      <td>3.503488</td>\n",
       "    </tr>\n",
       "    <tr>\n",
       "      <th>min</th>\n",
       "      <td>0.000000</td>\n",
       "      <td>1.472724e+09</td>\n",
       "      <td>1.110000</td>\n",
       "      <td>35.000000</td>\n",
       "      <td>30.190000</td>\n",
       "      <td>8.000000</td>\n",
       "      <td>0.090000</td>\n",
       "      <td>0.000000</td>\n",
       "    </tr>\n",
       "    <tr>\n",
       "      <th>25%</th>\n",
       "      <td>6537.000000</td>\n",
       "      <td>1.475544e+09</td>\n",
       "      <td>1.230000</td>\n",
       "      <td>46.000000</td>\n",
       "      <td>30.400000</td>\n",
       "      <td>56.000000</td>\n",
       "      <td>81.580000</td>\n",
       "      <td>3.370000</td>\n",
       "    </tr>\n",
       "    <tr>\n",
       "      <th>50%</th>\n",
       "      <td>13074.000000</td>\n",
       "      <td>1.478029e+09</td>\n",
       "      <td>2.720000</td>\n",
       "      <td>50.000000</td>\n",
       "      <td>30.430000</td>\n",
       "      <td>85.000000</td>\n",
       "      <td>147.320000</td>\n",
       "      <td>5.620000</td>\n",
       "    </tr>\n",
       "    <tr>\n",
       "      <th>75%</th>\n",
       "      <td>19611.000000</td>\n",
       "      <td>1.480473e+09</td>\n",
       "      <td>360.260000</td>\n",
       "      <td>55.000000</td>\n",
       "      <td>30.460000</td>\n",
       "      <td>97.000000</td>\n",
       "      <td>179.240000</td>\n",
       "      <td>7.870000</td>\n",
       "    </tr>\n",
       "    <tr>\n",
       "      <th>max</th>\n",
       "      <td>26148.000000</td>\n",
       "      <td>1.483264e+09</td>\n",
       "      <td>1601.260000</td>\n",
       "      <td>71.000000</td>\n",
       "      <td>30.560000</td>\n",
       "      <td>103.000000</td>\n",
       "      <td>359.940000</td>\n",
       "      <td>40.500000</td>\n",
       "    </tr>\n",
       "  </tbody>\n",
       "</table>\n",
       "</div>"
      ],
      "text/plain": [
       "                idx      UNIXTime     Radiation   Temperature      Pressure  \\\n",
       "count  26149.000000  2.614900e+04  26149.000000  26149.000000  26149.000000   \n",
       "mean   13074.000000  1.478046e+09    208.621000     51.135110     30.423005   \n",
       "std     7548.710431  3.004309e+06    316.089736      6.212018      0.054679   \n",
       "min        0.000000  1.472724e+09      1.110000     35.000000     30.190000   \n",
       "25%     6537.000000  1.475544e+09      1.230000     46.000000     30.400000   \n",
       "50%    13074.000000  1.478029e+09      2.720000     50.000000     30.430000   \n",
       "75%    19611.000000  1.480473e+09    360.260000     55.000000     30.460000   \n",
       "max    26148.000000  1.483264e+09   1601.260000     71.000000     30.560000   \n",
       "\n",
       "           Humidity  WindDirection(Degrees)         Speed  \n",
       "count  26149.000000            26149.000000  26149.000000  \n",
       "mean      74.970936              143.368247      6.262052  \n",
       "std       26.008728               83.424186      3.503488  \n",
       "min        8.000000                0.090000      0.000000  \n",
       "25%       56.000000               81.580000      3.370000  \n",
       "50%       85.000000              147.320000      5.620000  \n",
       "75%       97.000000              179.240000      7.870000  \n",
       "max      103.000000              359.940000     40.500000  "
      ]
     },
     "execution_count": 72,
     "metadata": {},
     "output_type": "execute_result"
    }
   ],
   "source": [
    "train.describe()"
   ]
  },
  {
   "cell_type": "code",
   "execution_count": 73,
   "metadata": {},
   "outputs": [
    {
     "name": "stdout",
     "output_type": "stream",
     "text": [
      "<class 'pandas.core.frame.DataFrame'>\n",
      "RangeIndex: 26149 entries, 0 to 26148\n",
      "Data columns (total 12 columns):\n",
      "idx                       26149 non-null int64\n",
      "UNIXTime                  26149 non-null int64\n",
      "Data                      26149 non-null object\n",
      "Time                      26149 non-null object\n",
      "Radiation                 26149 non-null float64\n",
      "Temperature               26149 non-null int64\n",
      "Pressure                  26149 non-null float64\n",
      "Humidity                  26149 non-null int64\n",
      "WindDirection(Degrees)    26149 non-null float64\n",
      "Speed                     26149 non-null float64\n",
      "TimeSunRise               26149 non-null object\n",
      "TimeSunSet                26149 non-null object\n",
      "dtypes: float64(4), int64(4), object(4)\n",
      "memory usage: 2.4+ MB\n"
     ]
    }
   ],
   "source": [
    "train.info()"
   ]
  },
  {
   "cell_type": "code",
   "execution_count": 74,
   "metadata": {},
   "outputs": [
    {
     "data": {
      "text/plain": [
       "0"
      ]
     },
     "execution_count": 74,
     "metadata": {},
     "output_type": "execute_result"
    }
   ],
   "source": [
    "train.duplicated().sum()"
   ]
  },
  {
   "cell_type": "code",
   "execution_count": 75,
   "metadata": {},
   "outputs": [
    {
     "data": {
      "text/html": [
       "<div>\n",
       "<style scoped>\n",
       "    .dataframe tbody tr th:only-of-type {\n",
       "        vertical-align: middle;\n",
       "    }\n",
       "\n",
       "    .dataframe tbody tr th {\n",
       "        vertical-align: top;\n",
       "    }\n",
       "\n",
       "    .dataframe thead th {\n",
       "        text-align: right;\n",
       "    }\n",
       "</style>\n",
       "<table border=\"1\" class=\"dataframe\">\n",
       "  <thead>\n",
       "    <tr style=\"text-align: right;\">\n",
       "      <th></th>\n",
       "      <th>idx</th>\n",
       "      <th>UNIXTime</th>\n",
       "      <th>Data</th>\n",
       "      <th>Time</th>\n",
       "      <th>Temperature</th>\n",
       "      <th>Pressure</th>\n",
       "      <th>Humidity</th>\n",
       "      <th>WindDirection(Degrees)</th>\n",
       "      <th>Speed</th>\n",
       "      <th>TimeSunRise</th>\n",
       "      <th>TimeSunSet</th>\n",
       "    </tr>\n",
       "  </thead>\n",
       "  <tbody>\n",
       "    <tr>\n",
       "      <th>0</th>\n",
       "      <td>0</td>\n",
       "      <td>1482775250</td>\n",
       "      <td>12/26/2016 12:00:00 AM</td>\n",
       "      <td>08:00:50</td>\n",
       "      <td>48</td>\n",
       "      <td>30.47</td>\n",
       "      <td>101</td>\n",
       "      <td>187.78</td>\n",
       "      <td>4.50</td>\n",
       "      <td>06:55:00</td>\n",
       "      <td>17:51:00</td>\n",
       "    </tr>\n",
       "    <tr>\n",
       "      <th>1</th>\n",
       "      <td>1</td>\n",
       "      <td>1482774940</td>\n",
       "      <td>12/26/2016 12:00:00 AM</td>\n",
       "      <td>07:55:40</td>\n",
       "      <td>48</td>\n",
       "      <td>30.47</td>\n",
       "      <td>101</td>\n",
       "      <td>133.40</td>\n",
       "      <td>10.12</td>\n",
       "      <td>06:55:00</td>\n",
       "      <td>17:51:00</td>\n",
       "    </tr>\n",
       "    <tr>\n",
       "      <th>2</th>\n",
       "      <td>2</td>\n",
       "      <td>1482774649</td>\n",
       "      <td>12/26/2016 12:00:00 AM</td>\n",
       "      <td>07:50:49</td>\n",
       "      <td>48</td>\n",
       "      <td>30.47</td>\n",
       "      <td>101</td>\n",
       "      <td>160.69</td>\n",
       "      <td>5.62</td>\n",
       "      <td>06:55:00</td>\n",
       "      <td>17:51:00</td>\n",
       "    </tr>\n",
       "    <tr>\n",
       "      <th>3</th>\n",
       "      <td>3</td>\n",
       "      <td>1482774351</td>\n",
       "      <td>12/26/2016 12:00:00 AM</td>\n",
       "      <td>07:45:51</td>\n",
       "      <td>48</td>\n",
       "      <td>30.47</td>\n",
       "      <td>101</td>\n",
       "      <td>144.56</td>\n",
       "      <td>7.87</td>\n",
       "      <td>06:55:00</td>\n",
       "      <td>17:51:00</td>\n",
       "    </tr>\n",
       "    <tr>\n",
       "      <th>4</th>\n",
       "      <td>4</td>\n",
       "      <td>1482774039</td>\n",
       "      <td>12/26/2016 12:00:00 AM</td>\n",
       "      <td>07:40:39</td>\n",
       "      <td>48</td>\n",
       "      <td>30.47</td>\n",
       "      <td>101</td>\n",
       "      <td>169.05</td>\n",
       "      <td>10.12</td>\n",
       "      <td>06:55:00</td>\n",
       "      <td>17:51:00</td>\n",
       "    </tr>\n",
       "  </tbody>\n",
       "</table>\n",
       "</div>"
      ],
      "text/plain": [
       "   idx    UNIXTime                    Data      Time  Temperature  Pressure  \\\n",
       "0    0  1482775250  12/26/2016 12:00:00 AM  08:00:50           48     30.47   \n",
       "1    1  1482774940  12/26/2016 12:00:00 AM  07:55:40           48     30.47   \n",
       "2    2  1482774649  12/26/2016 12:00:00 AM  07:50:49           48     30.47   \n",
       "3    3  1482774351  12/26/2016 12:00:00 AM  07:45:51           48     30.47   \n",
       "4    4  1482774039  12/26/2016 12:00:00 AM  07:40:39           48     30.47   \n",
       "\n",
       "   Humidity  WindDirection(Degrees)  Speed TimeSunRise TimeSunSet  \n",
       "0       101                  187.78   4.50    06:55:00   17:51:00  \n",
       "1       101                  133.40  10.12    06:55:00   17:51:00  \n",
       "2       101                  160.69   5.62    06:55:00   17:51:00  \n",
       "3       101                  144.56   7.87    06:55:00   17:51:00  \n",
       "4       101                  169.05  10.12    06:55:00   17:51:00  "
      ]
     },
     "execution_count": 75,
     "metadata": {},
     "output_type": "execute_result"
    }
   ],
   "source": [
    "test = pd.read_csv('TEST.csv')\n",
    "test.head()"
   ]
  },
  {
   "cell_type": "code",
   "execution_count": 76,
   "metadata": {},
   "outputs": [
    {
     "data": {
      "text/plain": [
       "(6537, 11)"
      ]
     },
     "execution_count": 76,
     "metadata": {},
     "output_type": "execute_result"
    }
   ],
   "source": [
    "test.shape"
   ]
  },
  {
   "cell_type": "code",
   "execution_count": 77,
   "metadata": {},
   "outputs": [
    {
     "name": "stdout",
     "output_type": "stream",
     "text": [
      "<class 'pandas.core.frame.DataFrame'>\n",
      "RangeIndex: 6537 entries, 0 to 6536\n",
      "Data columns (total 11 columns):\n",
      "idx                       6537 non-null int64\n",
      "UNIXTime                  6537 non-null int64\n",
      "Data                      6537 non-null object\n",
      "Time                      6537 non-null object\n",
      "Temperature               6537 non-null int64\n",
      "Pressure                  6537 non-null float64\n",
      "Humidity                  6537 non-null int64\n",
      "WindDirection(Degrees)    6537 non-null float64\n",
      "Speed                     6537 non-null float64\n",
      "TimeSunRise               6537 non-null object\n",
      "TimeSunSet                6537 non-null object\n",
      "dtypes: float64(3), int64(4), object(4)\n",
      "memory usage: 561.9+ KB\n"
     ]
    }
   ],
   "source": [
    "test.info()"
   ]
  },
  {
   "cell_type": "code",
   "execution_count": 78,
   "metadata": {},
   "outputs": [],
   "source": [
    "train['DataMonth'] = train['Data'].apply(lambda x:x.split('/')[0])\n",
    "train['DataDate'] = train['Data'].apply(lambda x:x.split('/')[1])\n",
    "train['DataYear'] = train['Data'].apply(lambda x:x.split('/')[2])\n",
    "train['DataYear'] = train['DataYear'].apply(lambda x:x.split(' ')[0])"
   ]
  },
  {
   "cell_type": "code",
   "execution_count": 79,
   "metadata": {},
   "outputs": [],
   "source": [
    "test['DataMonth'] = test['Data'].apply(lambda x:x.split('/')[0])\n",
    "test['DataDate'] = test['Data'].apply(lambda x:x.split('/')[1])\n",
    "test['DataYear'] = test['Data'].apply(lambda x:x.split('/')[2])\n",
    "test['DataYear'] = test['DataYear'].apply(lambda x:x.split(' ')[0])"
   ]
  },
  {
   "cell_type": "code",
   "execution_count": 80,
   "metadata": {},
   "outputs": [],
   "source": [
    "l = ['DataMonth', 'DataDate', 'DataYear']\n",
    "for i in l:\n",
    "    train[i] = train[i].astype(int)"
   ]
  },
  {
   "cell_type": "code",
   "execution_count": 81,
   "metadata": {},
   "outputs": [],
   "source": [
    "l = ['DataMonth', 'DataDate', 'DataYear']\n",
    "for i in l:\n",
    "    test[i] = test[i].astype(int)"
   ]
  },
  {
   "cell_type": "code",
   "execution_count": 82,
   "metadata": {},
   "outputs": [],
   "source": [
    "train['HourTimeSunRise'] = train['TimeSunRise'].apply(lambda x:x.split(':')[0])\n",
    "test['HourTimeSunRise'] = test['TimeSunRise'].apply(lambda x:x.split(':')[0])"
   ]
  },
  {
   "cell_type": "code",
   "execution_count": 83,
   "metadata": {},
   "outputs": [],
   "source": [
    "train['MinuteTimeSunRise'] = train['TimeSunRise'].apply(lambda x:x.split(':')[1])\n",
    "test['MinuteTimeSunRise'] = test['TimeSunRise'].apply(lambda x:x.split(':')[1])"
   ]
  },
  {
   "cell_type": "code",
   "execution_count": 84,
   "metadata": {},
   "outputs": [],
   "source": [
    "train['HourTimeSunSet'] = train['TimeSunSet'].apply(lambda x:x.split(':')[0])\n",
    "test['HourTimeSunSet'] = test['TimeSunSet'].apply(lambda x:x.split(':')[0])"
   ]
  },
  {
   "cell_type": "code",
   "execution_count": 85,
   "metadata": {},
   "outputs": [],
   "source": [
    "train['MinuteTimeSunSet'] = train['TimeSunSet'].apply(lambda x:x.split(':')[1])\n",
    "test['MinuteTimeSunSet'] = test['TimeSunSet'].apply(lambda x:x.split(':')[1])"
   ]
  },
  {
   "cell_type": "code",
   "execution_count": 86,
   "metadata": {},
   "outputs": [],
   "source": [
    "train['TotalTimeHour'] = train['Time'].apply(lambda x:x.split(':')[0])\n",
    "train['TotalTimeMinute'] = train['Time'].apply(lambda x:x.split(':')[1])\n",
    "train['TotalTimeSecond'] = train['Time'].apply(lambda x:x.split(':')[2])"
   ]
  },
  {
   "cell_type": "code",
   "execution_count": 87,
   "metadata": {},
   "outputs": [],
   "source": [
    "test['TotalTimeHour'] = test['Time'].apply(lambda x:x.split(':')[0])\n",
    "test['TotalTimeMinute'] = test['Time'].apply(lambda x:x.split(':')[1])\n",
    "test['TotalTimeSecond'] = test['Time'].apply(lambda x:x.split(':')[2])"
   ]
  },
  {
   "cell_type": "code",
   "execution_count": 88,
   "metadata": {},
   "outputs": [],
   "source": [
    "l = ['HourTimeSunRise', 'MinuteTimeSunRise', 'HourTimeSunSet', 'MinuteTimeSunSet', 'TotalTimeHour', 'TotalTimeMinute', 'TotalTimeSecond']\n",
    "for i in l:\n",
    "    train[i] = train[i].astype(int)"
   ]
  },
  {
   "cell_type": "code",
   "execution_count": 89,
   "metadata": {},
   "outputs": [],
   "source": [
    "l = ['HourTimeSunRise', 'MinuteTimeSunRise', 'HourTimeSunSet', 'MinuteTimeSunSet', 'TotalTimeHour', 'TotalTimeMinute', 'TotalTimeSecond']\n",
    "for i in l:\n",
    "    test[i] = test[i].astype(int)"
   ]
  },
  {
   "cell_type": "code",
   "execution_count": 90,
   "metadata": {},
   "outputs": [],
   "source": [
    "train = train.drop(['Data', 'Time', 'TimeSunRise', 'TimeSunSet'], axis = 1)\n",
    "test = test.drop(['Data', 'Time', 'TimeSunRise', 'TimeSunSet'], axis = 1)"
   ]
  },
  {
   "cell_type": "code",
   "execution_count": 91,
   "metadata": {},
   "outputs": [],
   "source": [
    "train = train.drop('idx', axis = 1)\n",
    "newtest = test\n",
    "newtest = newtest.drop('idx', axis = 1)"
   ]
  },
  {
   "cell_type": "code",
   "execution_count": 92,
   "metadata": {},
   "outputs": [
    {
     "data": {
      "text/html": [
       "<div>\n",
       "<style scoped>\n",
       "    .dataframe tbody tr th:only-of-type {\n",
       "        vertical-align: middle;\n",
       "    }\n",
       "\n",
       "    .dataframe tbody tr th {\n",
       "        vertical-align: top;\n",
       "    }\n",
       "\n",
       "    .dataframe thead th {\n",
       "        text-align: right;\n",
       "    }\n",
       "</style>\n",
       "<table border=\"1\" class=\"dataframe\">\n",
       "  <thead>\n",
       "    <tr style=\"text-align: right;\">\n",
       "      <th></th>\n",
       "      <th>UNIXTime</th>\n",
       "      <th>Radiation</th>\n",
       "      <th>Temperature</th>\n",
       "      <th>Pressure</th>\n",
       "      <th>Humidity</th>\n",
       "      <th>WindDirection(Degrees)</th>\n",
       "      <th>Speed</th>\n",
       "      <th>DataMonth</th>\n",
       "      <th>DataDate</th>\n",
       "      <th>DataYear</th>\n",
       "      <th>HourTimeSunRise</th>\n",
       "      <th>MinuteTimeSunRise</th>\n",
       "      <th>HourTimeSunSet</th>\n",
       "      <th>MinuteTimeSunSet</th>\n",
       "      <th>TotalTimeHour</th>\n",
       "      <th>TotalTimeMinute</th>\n",
       "      <th>TotalTimeSecond</th>\n",
       "    </tr>\n",
       "  </thead>\n",
       "  <tbody>\n",
       "    <tr>\n",
       "      <th>0</th>\n",
       "      <td>1480107904</td>\n",
       "      <td>288.44</td>\n",
       "      <td>46</td>\n",
       "      <td>30.48</td>\n",
       "      <td>101</td>\n",
       "      <td>129.84</td>\n",
       "      <td>13.50</td>\n",
       "      <td>11</td>\n",
       "      <td>25</td>\n",
       "      <td>2016</td>\n",
       "      <td>6</td>\n",
       "      <td>37</td>\n",
       "      <td>17</td>\n",
       "      <td>42</td>\n",
       "      <td>11</td>\n",
       "      <td>5</td>\n",
       "      <td>4</td>\n",
       "    </tr>\n",
       "    <tr>\n",
       "      <th>1</th>\n",
       "      <td>1472818508</td>\n",
       "      <td>2.79</td>\n",
       "      <td>50</td>\n",
       "      <td>30.42</td>\n",
       "      <td>75</td>\n",
       "      <td>173.90</td>\n",
       "      <td>6.75</td>\n",
       "      <td>9</td>\n",
       "      <td>2</td>\n",
       "      <td>2016</td>\n",
       "      <td>6</td>\n",
       "      <td>7</td>\n",
       "      <td>18</td>\n",
       "      <td>37</td>\n",
       "      <td>2</td>\n",
       "      <td>15</td>\n",
       "      <td>8</td>\n",
       "    </tr>\n",
       "    <tr>\n",
       "      <th>2</th>\n",
       "      <td>1475804719</td>\n",
       "      <td>118.05</td>\n",
       "      <td>54</td>\n",
       "      <td>30.42</td>\n",
       "      <td>100</td>\n",
       "      <td>7.35</td>\n",
       "      <td>1.12</td>\n",
       "      <td>10</td>\n",
       "      <td>6</td>\n",
       "      <td>2016</td>\n",
       "      <td>6</td>\n",
       "      <td>15</td>\n",
       "      <td>18</td>\n",
       "      <td>7</td>\n",
       "      <td>15</td>\n",
       "      <td>45</td>\n",
       "      <td>19</td>\n",
       "    </tr>\n",
       "    <tr>\n",
       "      <th>3</th>\n",
       "      <td>1482533149</td>\n",
       "      <td>853.17</td>\n",
       "      <td>58</td>\n",
       "      <td>30.44</td>\n",
       "      <td>57</td>\n",
       "      <td>81.67</td>\n",
       "      <td>11.25</td>\n",
       "      <td>12</td>\n",
       "      <td>23</td>\n",
       "      <td>2016</td>\n",
       "      <td>6</td>\n",
       "      <td>54</td>\n",
       "      <td>17</td>\n",
       "      <td>50</td>\n",
       "      <td>12</td>\n",
       "      <td>45</td>\n",
       "      <td>49</td>\n",
       "    </tr>\n",
       "    <tr>\n",
       "      <th>4</th>\n",
       "      <td>1481883019</td>\n",
       "      <td>1.24</td>\n",
       "      <td>42</td>\n",
       "      <td>30.24</td>\n",
       "      <td>103</td>\n",
       "      <td>171.13</td>\n",
       "      <td>2.25</td>\n",
       "      <td>12</td>\n",
       "      <td>16</td>\n",
       "      <td>2016</td>\n",
       "      <td>6</td>\n",
       "      <td>50</td>\n",
       "      <td>17</td>\n",
       "      <td>46</td>\n",
       "      <td>0</td>\n",
       "      <td>10</td>\n",
       "      <td>19</td>\n",
       "    </tr>\n",
       "  </tbody>\n",
       "</table>\n",
       "</div>"
      ],
      "text/plain": [
       "     UNIXTime  Radiation  Temperature  Pressure  Humidity  \\\n",
       "0  1480107904     288.44           46     30.48       101   \n",
       "1  1472818508       2.79           50     30.42        75   \n",
       "2  1475804719     118.05           54     30.42       100   \n",
       "3  1482533149     853.17           58     30.44        57   \n",
       "4  1481883019       1.24           42     30.24       103   \n",
       "\n",
       "   WindDirection(Degrees)  Speed  DataMonth  DataDate  DataYear  \\\n",
       "0                  129.84  13.50         11        25      2016   \n",
       "1                  173.90   6.75          9         2      2016   \n",
       "2                    7.35   1.12         10         6      2016   \n",
       "3                   81.67  11.25         12        23      2016   \n",
       "4                  171.13   2.25         12        16      2016   \n",
       "\n",
       "   HourTimeSunRise  MinuteTimeSunRise  HourTimeSunSet  MinuteTimeSunSet  \\\n",
       "0                6                 37              17                42   \n",
       "1                6                  7              18                37   \n",
       "2                6                 15              18                 7   \n",
       "3                6                 54              17                50   \n",
       "4                6                 50              17                46   \n",
       "\n",
       "   TotalTimeHour  TotalTimeMinute  TotalTimeSecond  \n",
       "0             11                5                4  \n",
       "1              2               15                8  \n",
       "2             15               45               19  \n",
       "3             12               45               49  \n",
       "4              0               10               19  "
      ]
     },
     "execution_count": 92,
     "metadata": {},
     "output_type": "execute_result"
    }
   ],
   "source": [
    "train.head()"
   ]
  },
  {
   "cell_type": "code",
   "execution_count": 93,
   "metadata": {},
   "outputs": [
    {
     "data": {
      "text/html": [
       "<div>\n",
       "<style scoped>\n",
       "    .dataframe tbody tr th:only-of-type {\n",
       "        vertical-align: middle;\n",
       "    }\n",
       "\n",
       "    .dataframe tbody tr th {\n",
       "        vertical-align: top;\n",
       "    }\n",
       "\n",
       "    .dataframe thead th {\n",
       "        text-align: right;\n",
       "    }\n",
       "</style>\n",
       "<table border=\"1\" class=\"dataframe\">\n",
       "  <thead>\n",
       "    <tr style=\"text-align: right;\">\n",
       "      <th></th>\n",
       "      <th>UNIXTime</th>\n",
       "      <th>Temperature</th>\n",
       "      <th>Pressure</th>\n",
       "      <th>Humidity</th>\n",
       "      <th>WindDirection(Degrees)</th>\n",
       "      <th>Speed</th>\n",
       "      <th>DataMonth</th>\n",
       "      <th>DataDate</th>\n",
       "      <th>DataYear</th>\n",
       "      <th>HourTimeSunRise</th>\n",
       "      <th>MinuteTimeSunRise</th>\n",
       "      <th>HourTimeSunSet</th>\n",
       "      <th>MinuteTimeSunSet</th>\n",
       "      <th>TotalTimeHour</th>\n",
       "      <th>TotalTimeMinute</th>\n",
       "      <th>TotalTimeSecond</th>\n",
       "    </tr>\n",
       "  </thead>\n",
       "  <tbody>\n",
       "    <tr>\n",
       "      <th>0</th>\n",
       "      <td>1482775250</td>\n",
       "      <td>48</td>\n",
       "      <td>30.47</td>\n",
       "      <td>101</td>\n",
       "      <td>187.78</td>\n",
       "      <td>4.50</td>\n",
       "      <td>12</td>\n",
       "      <td>26</td>\n",
       "      <td>2016</td>\n",
       "      <td>6</td>\n",
       "      <td>55</td>\n",
       "      <td>17</td>\n",
       "      <td>51</td>\n",
       "      <td>8</td>\n",
       "      <td>0</td>\n",
       "      <td>50</td>\n",
       "    </tr>\n",
       "    <tr>\n",
       "      <th>1</th>\n",
       "      <td>1482774940</td>\n",
       "      <td>48</td>\n",
       "      <td>30.47</td>\n",
       "      <td>101</td>\n",
       "      <td>133.40</td>\n",
       "      <td>10.12</td>\n",
       "      <td>12</td>\n",
       "      <td>26</td>\n",
       "      <td>2016</td>\n",
       "      <td>6</td>\n",
       "      <td>55</td>\n",
       "      <td>17</td>\n",
       "      <td>51</td>\n",
       "      <td>7</td>\n",
       "      <td>55</td>\n",
       "      <td>40</td>\n",
       "    </tr>\n",
       "    <tr>\n",
       "      <th>2</th>\n",
       "      <td>1482774649</td>\n",
       "      <td>48</td>\n",
       "      <td>30.47</td>\n",
       "      <td>101</td>\n",
       "      <td>160.69</td>\n",
       "      <td>5.62</td>\n",
       "      <td>12</td>\n",
       "      <td>26</td>\n",
       "      <td>2016</td>\n",
       "      <td>6</td>\n",
       "      <td>55</td>\n",
       "      <td>17</td>\n",
       "      <td>51</td>\n",
       "      <td>7</td>\n",
       "      <td>50</td>\n",
       "      <td>49</td>\n",
       "    </tr>\n",
       "    <tr>\n",
       "      <th>3</th>\n",
       "      <td>1482774351</td>\n",
       "      <td>48</td>\n",
       "      <td>30.47</td>\n",
       "      <td>101</td>\n",
       "      <td>144.56</td>\n",
       "      <td>7.87</td>\n",
       "      <td>12</td>\n",
       "      <td>26</td>\n",
       "      <td>2016</td>\n",
       "      <td>6</td>\n",
       "      <td>55</td>\n",
       "      <td>17</td>\n",
       "      <td>51</td>\n",
       "      <td>7</td>\n",
       "      <td>45</td>\n",
       "      <td>51</td>\n",
       "    </tr>\n",
       "    <tr>\n",
       "      <th>4</th>\n",
       "      <td>1482774039</td>\n",
       "      <td>48</td>\n",
       "      <td>30.47</td>\n",
       "      <td>101</td>\n",
       "      <td>169.05</td>\n",
       "      <td>10.12</td>\n",
       "      <td>12</td>\n",
       "      <td>26</td>\n",
       "      <td>2016</td>\n",
       "      <td>6</td>\n",
       "      <td>55</td>\n",
       "      <td>17</td>\n",
       "      <td>51</td>\n",
       "      <td>7</td>\n",
       "      <td>40</td>\n",
       "      <td>39</td>\n",
       "    </tr>\n",
       "  </tbody>\n",
       "</table>\n",
       "</div>"
      ],
      "text/plain": [
       "     UNIXTime  Temperature  Pressure  Humidity  WindDirection(Degrees)  Speed  \\\n",
       "0  1482775250           48     30.47       101                  187.78   4.50   \n",
       "1  1482774940           48     30.47       101                  133.40  10.12   \n",
       "2  1482774649           48     30.47       101                  160.69   5.62   \n",
       "3  1482774351           48     30.47       101                  144.56   7.87   \n",
       "4  1482774039           48     30.47       101                  169.05  10.12   \n",
       "\n",
       "   DataMonth  DataDate  DataYear  HourTimeSunRise  MinuteTimeSunRise  \\\n",
       "0         12        26      2016                6                 55   \n",
       "1         12        26      2016                6                 55   \n",
       "2         12        26      2016                6                 55   \n",
       "3         12        26      2016                6                 55   \n",
       "4         12        26      2016                6                 55   \n",
       "\n",
       "   HourTimeSunSet  MinuteTimeSunSet  TotalTimeHour  TotalTimeMinute  \\\n",
       "0              17                51              8                0   \n",
       "1              17                51              7               55   \n",
       "2              17                51              7               50   \n",
       "3              17                51              7               45   \n",
       "4              17                51              7               40   \n",
       "\n",
       "   TotalTimeSecond  \n",
       "0               50  \n",
       "1               40  \n",
       "2               49  \n",
       "3               51  \n",
       "4               39  "
      ]
     },
     "execution_count": 93,
     "metadata": {},
     "output_type": "execute_result"
    }
   ],
   "source": [
    "newtest.head()"
   ]
  },
  {
   "cell_type": "code",
   "execution_count": 94,
   "metadata": {},
   "outputs": [
    {
     "data": {
      "text/plain": [
       "(26149, 17)"
      ]
     },
     "execution_count": 94,
     "metadata": {},
     "output_type": "execute_result"
    }
   ],
   "source": [
    "train.shape"
   ]
  },
  {
   "cell_type": "code",
   "execution_count": 95,
   "metadata": {},
   "outputs": [
    {
     "data": {
      "text/plain": [
       "(6537, 16)"
      ]
     },
     "execution_count": 95,
     "metadata": {},
     "output_type": "execute_result"
    }
   ],
   "source": [
    "newtest.shape"
   ]
  },
  {
   "cell_type": "code",
   "execution_count": 96,
   "metadata": {},
   "outputs": [],
   "source": [
    "x = train.drop('Radiation', axis = 1)\n",
    "y = train['Radiation']"
   ]
  },
  {
   "cell_type": "code",
   "execution_count": 97,
   "metadata": {},
   "outputs": [],
   "source": [
    "from sklearn.model_selection import train_test_split\n",
    "x_train, x_test, y_train, y_test = train_test_split(x, y, test_size = 0.2, random_state = 1)"
   ]
  },
  {
   "cell_type": "code",
   "execution_count": 98,
   "metadata": {},
   "outputs": [],
   "source": [
    "from sklearn.ensemble import RandomForestRegressor\n",
    "rf = RandomForestRegressor()\n",
    "y_pred = rf.fit(x_train, y_train).predict(x_test)"
   ]
  },
  {
   "cell_type": "code",
   "execution_count": 99,
   "metadata": {},
   "outputs": [],
   "source": [
    "from sklearn.metrics import mean_squared_error"
   ]
  },
  {
   "cell_type": "code",
   "execution_count": 100,
   "metadata": {},
   "outputs": [
    {
     "name": "stdout",
     "output_type": "stream",
     "text": [
      "76.13926351703407\n"
     ]
    }
   ],
   "source": [
    "print(np.sqrt(mean_squared_error(y_test, y_pred)))"
   ]
  },
  {
   "cell_type": "code",
   "execution_count": 101,
   "metadata": {},
   "outputs": [
    {
     "data": {
      "image/png": "[encoded data removed]",
      "text/plain": [
       "<Figure size 432x288 with 1 Axes>"
      ]
     },
     "metadata": {
      "needs_background": "light"
     },
     "output_type": "display_data"
    }
   ],
   "source": [
    "feature_imp = pd.DataFrame(sorted(zip(rf.feature_importances_, x.columns), reverse=True)[:50], columns=['Value','Feature'])\n",
    "sns.barplot(x=\"Value\", y=\"Feature\", data=feature_imp.sort_values(by=\"Value\", ascending=False))\n",
    "plt.title('RF Features')\n",
    "plt.tight_layout()\n",
    "plt.show()"
   ]
  },
  {
   "cell_type": "code",
   "execution_count": 118,
   "metadata": {},
   "outputs": [],
   "source": [
    "x_train = train.drop(['HourTimeSunSet', 'HourTimeSunRise', 'Radiation', 'DataMonth', 'DataYear', 'MinuteTimeSunRise', 'Speed', 'TotalTimeSecond', 'MinuteTimeSunSet'], axis = 1)\n",
    "y_train = train['Radiation']\n",
    "x_test = newtest.drop(['HourTimeSunSet', 'HourTimeSunRise', 'DataMonth', 'DataYear', 'MinuteTimeSunRise', 'Speed', 'TotalTimeSecond', 'MinuteTimeSunSet'], axis = 1)"
   ]
  },
  {
   "cell_type": "code",
   "execution_count": 119,
   "metadata": {},
   "outputs": [],
   "source": [
    "rf = RandomForestRegressor()\n",
    "y_pred = rf.fit(x_train, y_train).predict(x_test)\n",
    "solution = pd.DataFrame({'idx': test.idx, 'Radiation' : y_pred})\n",
    "solution.to_csv('Solution1.csv', index = False)"
   ]
  },
  {
   "cell_type": "code",
   "execution_count": null,
   "metadata": {},
   "outputs": [],
   "source": []
  }
 ],
 "metadata": {
  "kernelspec": {
   "display_name": "Python 3",
   "language": "python",
   "name": "python3"
  },
  "language_info": {
   "codemirror_mode": {
    "name": "ipython",
    "version": 3
   },
   "file_extension": ".py",
   "mimetype": "text/x-python",
   "name": "python",
   "nbconvert_exporter": "python",
   "pygments_lexer": "ipython3",
   "version": "3.7.3"
  }
 },
 "nbformat": 4,
 "nbformat_minor": 2
}
